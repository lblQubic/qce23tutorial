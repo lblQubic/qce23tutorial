{
 "cells": [
  {
   "cell_type": "code",
   "execution_count": 1,
   "id": "a2c33014",
   "metadata": {},
   "outputs": [],
   "source": [
    "import qubic.toolchain as tc\n",
    "import qubic.rpc_client as rc\n",
    "import qubitconfig.qchip as qc\n",
    "from distproc.hwconfig import FPGAConfig, load_channel_configs\n",
    "import numpy as np\n",
    "import matplotlib.pyplot as plt"
   ]
  },
  {
   "cell_type": "markdown",
   "id": "39d6f5fe-600e-4ae4-82f0-6e3dc18f0866",
   "metadata": {
    "tags": []
   },
   "source": [
    "# Hardware (and Simulator) Channel Configuration\n",
    "\n",
    "QubiC 2.0 uses the [distributed processor](https://gitlab.com/LBL-QubiC/distributed_processor) for configuring and triggering pulses. In the current implementation, each processor core is connected to three process element (signal generator) channels in the firmware: qubit drive, readout, and readout demodulation:\n",
    "![image](part1_images/single_core_config.png)\n",
    "\n",
    "Each drive channel connects to its own DAC, while the readout drive (demod) are multiplexed to a single DAC (ADC). So the full architecture looks like this:\n",
    "![image](part1_images/channel_diagram.drawio.svg)\n",
    "\n",
    "**NOTE**: We don't have physical DACs for this part of the tutorial, so simulated DAC drive channels are indexed by `core_ind`; i.e. `core_0, elem_0 --> dac_out[0]`, `core_1, elem_0 --> dac_out[1]`, etc."
   ]
  },
  {
   "cell_type": "markdown",
   "id": "fb8b121e",
   "metadata": {},
   "source": [
    "# Play a simple pulse\n",
    "\n",
    "## Load configuration information"
   ]
  },
  {
   "cell_type": "markdown",
   "id": "1e68f6d1",
   "metadata": {},
   "source": [
    "1) define FPGA config; this has timing information for the scheduler. For now it is fine to use the following hardcoded config TODO for tutorial: put these parameters somewhere in the repo so it's not hardcoded for the demo"
   ]
  },
  {
   "cell_type": "code",
   "execution_count": 2,
   "id": "66196869",
   "metadata": {},
   "outputs": [],
   "source": [
    "fpga_config = FPGAConfig(**{'fpga_clk_period': 2.e-9, \n",
    "                            'alu_instr_clks': 5, \n",
    "                            'jump_cond_clks': 5, \n",
    "                            'jump_fproc_clks': 5, \n",
    "                            'pulse_regwrite_clks': 3})"
   ]
  },
  {
   "cell_type": "markdown",
   "id": "482dbaba",
   "metadata": {},
   "source": [
    "2. load channel configs, which assign named output channels to core and elem indices and configure signal generator parameters. These core + elem indices correspond to physical output channels (or readout downconversion channels); see the channel map diagram above, or [Understanding Channel Configuration](https://gitlab.com/LBL-QubiC/software/-/wikis/Understanding-Channel-Configuration) for more details.\n"
   ]
  },
  {
   "cell_type": "code",
   "execution_count": 3,
   "id": "7f604cfd",
   "metadata": {},
   "outputs": [],
   "source": [
    "channel_configs = load_channel_configs('channel_config.json')"
   ]
  },
  {
   "cell_type": "markdown",
   "id": "0bff8a3b-889d-491b-bf13-402c8fe7a2ab",
   "metadata": {},
   "source": [
    "example channel config for named output 'Q0.qdrv' (qubit drive channel for physical qubit 'Q0'): \n",
    "\n",
    "```json\n",
    "\"Q0.qdrv\":{\n",
    "        \"core_ind\": 7,\n",
    "        \"elem_ind\": 0,\n",
    "        \"elem_params\":{\n",
    "            \"samples_per_clk\": 16,\n",
    "            \"interp_ratio\": 1\n",
    "        },\n",
    "        \"env_mem_name\": \"qdrvenv{core_ind}\",\n",
    "        \"freq_mem_name\": \"qdrvfreq{core_ind}\",\n",
    "        \"acc_mem_name\": \"accbuf{core_ind}\"\n",
    "}\n",
    "```\n",
    "\n",
    "The physical output channel is given by `core_ind` and `elem_ind`, while signal generator params are given by `elem_params`.\n"
   ]
  },
  {
   "cell_type": "markdown",
   "id": "8ee90e88",
   "metadata": {},
   "source": [
    "## Define the pulse sequence"
   ]
  },
  {
   "cell_type": "markdown",
   "id": "9d4f76de-c8c7-49e9-90a7-c7533126f790",
   "metadata": {},
   "source": [
    "A QubiC circuit (or \"program\") is represented as a list of dictionaries. Each dictionary is a pulse command, program statement, or timing construct"
   ]
  },
  {
   "cell_type": "code",
   "execution_count": 4,
   "id": "3b43636e",
   "metadata": {},
   "outputs": [],
   "source": [
    "circuit = [\n",
    "    #play a single pulse on the Q0 drive channel\n",
    "    {'name': 'pulse', 'phase': 0, 'freq': 4944383311, 'amp': 0.334704954261188, 'twidth': 2.4e-08,\n",
    "     'env': {'env_func': 'cos_edge_square', 'paradict': {'ramp_fraction': 0.25}},\n",
    "     'dest': 'Q0.qdrv'}, \n",
    "    \n",
    "]"
   ]
  },
  {
   "cell_type": "markdown",
   "id": "21258b1d-e2ee-4be6-bf04-6b92ffaa2b13",
   "metadata": {},
   "source": [
    "The pulse-dictionary above includes both parameters for the carrier signal (phase, freq, and amp), as well as a reference to a function that provides the envelope used for amplitude modulation. See [qubitconfig.envelope_pulse](https://gitlab.com/LBL-QubiC/experiments/qubitconfig/-/blob/main/qubitconfig/envelope_pulse.py?ref_type=heads) to see all available envelope functions. Envelopes are computed at compile-time, so a user could add arbitrary custom envelope functions to this library. Alternatively, a numpy array of samples can be provided. "
   ]
  },
  {
   "cell_type": "markdown",
   "id": "0d312a98",
   "metadata": {},
   "source": [
    "## Compile and Assemble\n",
    "\n",
    "Compile the program. Since we don't have any references to gates, we can pass None to the qchip argument. Broadly, the compiler does the following:\n",
    " 1. Resolve Gate references into pulses *(don't worry about this for now, we'll get to this later)*\n",
    " 2. Schedule all pulses\n",
    " 3. Lower control flow *(also don't worry about this)*\n",
    " 4. Break up the program into a set of several programs, one per core\n",
    "\n",
    "The output of the compile stage is a distributed processor assembly program, which consists of initialization/termination statements, as well as a list of scheduled pulses for each core. Our program only uses one processor core, scoped to channels `('Q0.qdrv', 'Q0.rdrv', 'Q0.rdlo')`."
   ]
  },
  {
   "cell_type": "code",
   "execution_count": 5,
   "id": "809d68fb",
   "metadata": {},
   "outputs": [
    {
     "data": {
      "text/plain": [
       "{('Q0.qdrv', 'Q0.rdrv', 'Q0.rdlo'): [{'op': 'phase_reset'},\n",
       "  {'op': 'pulse',\n",
       "   'freq': 4944383311,\n",
       "   'phase': 0,\n",
       "   'amp': 0.334704954261188,\n",
       "   'env': {'env_func': 'cos_edge_square',\n",
       "    'paradict': {'ramp_fraction': 0.25, 'twidth': 2.4e-08}},\n",
       "   'start_time': 5,\n",
       "   'dest': 'Q0.qdrv'},\n",
       "  {'op': 'done_stb'}]}"
      ]
     },
     "execution_count": 5,
     "metadata": {},
     "output_type": "execute_result"
    }
   ],
   "source": [
    "compiled_prog = tc.run_compile_stage(circuit, fpga_config, None)\n",
    "compiled_prog.program"
   ]
  },
  {
   "cell_type": "markdown",
   "id": "795740b0",
   "metadata": {},
   "source": [
    "Run the assembler to convert the above program into machine code that we can load onto the FPGA or gateware simulation:"
   ]
  },
  {
   "cell_type": "code",
   "execution_count": 6,
   "id": "e8892988",
   "metadata": {},
   "outputs": [
    {
     "data": {
      "text/plain": [
       "{'7': {'cmd_buf': b'\\x00\\x00\\x00\\x00\\x00\\x00\\x00\\x00\\x00\\x00\\x00\\x00\\x00\\x00\\x00\\xb0\\xa0\\x00\\x00\\x00\\x00^\\xab\\x08@\\x00\\x00\\x02\\x00\\x03\\x08\\x90\\x00\\x00\\x00\\x00\\x00\\x00\\x00\\x00\\x00\\x00\\x00\\x00\\x00\\x00\\x00\\xa0',\n",
       "  'env_buffers': [b\"\\x00\\x00\\x00\\x00\\x00\\x00#\\x00\\x00\\x00\\x8c\\x00\\x00\\x00:\\x01\\x00\\x00.\\x02\\x00\\x00e\\x03\\x00\\x00\\xdf\\x04\\x00\\x00\\x99\\x06\\x00\\x00\\x92\\x08\\x00\\x00\\xc9\\n\\x00\\x009\\r\\x00\\x00\\xe1\\x0f\\x00\\x00\\xbe\\x12\\x00\\x00\\xcd\\x15\\x00\\x00\\t\\x19\\x00\\x00q\\x1c\\x00\\x00\\xff\\x1f\\x00\\x00\\xb1#\\x00\\x00\\x81'\\x00\\x00m+\\x00\\x00o/\\x00\\x00\\x833\\x00\\x00\\xa57\\x00\\x00\\xcf;\\x00\\x00\\xff?\\x00\\x00/D\\x00\\x00YH\\x00\\x00{L\\x00\\x00\\x8fP\\x00\\x00\\x91T\\x00\\x00}X\\x00\\x00M\\\\\\x00\\x00\\xff_\\x00\\x00\\x8dc\\x00\\x00\\xf5f\\x00\\x001j\\x00\\x00@m\\x00\\x00\\x1dp\\x00\\x00\\xc5r\\x00\\x005u\\x00\\x00lw\\x00\\x00ey\\x00\\x00\\x1f{\\x00\\x00\\x99|\\x00\\x00\\xd0}\\x00\\x00\\xc4~\\x00\\x00r\\x7f\\x00\\x00\\xdb\\x7f\\x00\\x00\\xff\\x7f\\x00\\x00\\xff\\x7f\\x00\\x00\\xff\\x7f\\x00\\x00\\xff\\x7f\\x00\\x00\\xff\\x7f\\x00\\x00\\xff\\x7f\\x00\\x00\\xff\\x7f\\x00\\x00\\xff\\x7f\\x00\\x00\\xff\\x7f\\x00\\x00\\xff\\x7f\\x00\\x00\\xff\\x7f\\x00\\x00\\xff\\x7f\\x00\\x00\\xff\\x7f\\x00\\x00\\xff\\x7f\\x00\\x00\\xff\\x7f\\x00\\x00\\xff\\x7f\\x00\\x00\\xff\\x7f\\x00\\x00\\xff\\x7f\\x00\\x00\\xff\\x7f\\x00\\x00\\xff\\x7f\\x00\\x00\\xff\\x7f\\x00\\x00\\xff\\x7f\\x00\\x00\\xff\\x7f\\x00\\x00\\xff\\x7f\\x00\\x00\\xff\\x7f\\x00\\x00\\xff\\x7f\\x00\\x00\\xff\\x7f\\x00\\x00\\xff\\x7f\\x00\\x00\\xff\\x7f\\x00\\x00\\xff\\x7f\\x00\\x00\\xff\\x7f\\x00\\x00\\xff\\x7f\\x00\\x00\\xff\\x7f\\x00\\x00\\xff\\x7f\\x00\\x00\\xff\\x7f\\x00\\x00\\xff\\x7f\\x00\\x00\\xff\\x7f\\x00\\x00\\xff\\x7f\\x00\\x00\\xff\\x7f\\x00\\x00\\xff\\x7f\\x00\\x00\\xff\\x7f\\x00\\x00\\xff\\x7f\\x00\\x00\\xff\\x7f\\x00\\x00\\xff\\x7f\\x00\\x00\\xff\\x7f\\x00\\x00\\xff\\x7f\\x00\\x00\\xff\\x7f\\x00\\x00\\xff\\x7f\\x00\\x00\\xff\\x7f\\x00\\x00\\xff\\x7f\\x00\\x00\\xff\\x7f\\x00\\x00\\xff\\x7f\\x00\\x00\\xff\\x7f\\x00\\x00\\xff\\x7f\\x00\\x00\\xff\\x7f\\x00\\x00\\xff\\x7f\\x00\\x00\\xff\\x7f\\x00\\x00\\xff\\x7f\\x00\\x00\\xff\\x7f\\x00\\x00\\xff\\x7f\\x00\\x00\\xff\\x7f\\x00\\x00\\xff\\x7f\\x00\\x00\\xff\\x7f\\x00\\x00\\xff\\x7f\\x00\\x00\\xff\\x7f\\x00\\x00\\xff\\x7f\\x00\\x00\\xff\\x7f\\x00\\x00\\xff\\x7f\\x00\\x00\\xff\\x7f\\x00\\x00\\xff\\x7f\\x00\\x00\\xff\\x7f\\x00\\x00\\xff\\x7f\\x00\\x00\\xff\\x7f\\x00\\x00\\xff\\x7f\\x00\\x00\\xff\\x7f\\x00\\x00\\xff\\x7f\\x00\\x00\\xff\\x7f\\x00\\x00\\xff\\x7f\\x00\\x00\\xff\\x7f\\x00\\x00\\xff\\x7f\\x00\\x00\\xff\\x7f\\x00\\x00\\xff\\x7f\\x00\\x00\\xff\\x7f\\x00\\x00\\xff\\x7f\\x00\\x00\\xff\\x7f\\x00\\x00\\xff\\x7f\\x00\\x00\\xff\\x7f\\x00\\x00\\xff\\x7f\\x00\\x00\\xff\\x7f\\x00\\x00\\xff\\x7f\\x00\\x00\\xff\\x7f\\x00\\x00\\xff\\x7f\\x00\\x00\\xff\\x7f\\x00\\x00\\xff\\x7f\\x00\\x00\\xff\\x7f\\x00\\x00\\xff\\x7f\\x00\\x00\\xff\\x7f\\x00\\x00\\xdb\\x7f\\x00\\x00r\\x7f\\x00\\x00\\xc4~\\x00\\x00\\xd0}\\x00\\x00\\x99|\\x00\\x00\\x1f{\\x00\\x00ey\\x00\\x00lw\\x00\\x005u\\x00\\x00\\xc5r\\x00\\x00\\x1dp\\x00\\x00@m\\x00\\x001j\\x00\\x00\\xf5f\\x00\\x00\\x8dc\\x00\\x00\\xff_\\x00\\x00M\\\\\\x00\\x00}X\\x00\\x00\\x91T\\x00\\x00\\x8fP\\x00\\x00{L\\x00\\x00YH\\x00\\x00/D\\x00\\x00\\xff?\\x00\\x00\\xcf;\\x00\\x00\\xa57\\x00\\x00\\x833\\x00\\x00o/\\x00\\x00m+\\x00\\x00\\x81'\\x00\\x00\\xb1#\\x00\\x00\\xff\\x1f\\x00\\x00q\\x1c\\x00\\x00\\t\\x19\\x00\\x00\\xcd\\x15\\x00\\x00\\xbe\\x12\\x00\\x00\\xe1\\x0f\\x00\\x009\\r\\x00\\x00\\xc9\\n\\x00\\x00\\x92\\x08\\x00\\x00\\x99\\x06\\x00\\x00\\xdf\\x04\\x00\\x00e\\x03\\x00\\x00.\\x02\\x00\\x00:\\x01\\x00\\x00\\x8c\\x00\\x00\\x00#\\x00\",\n",
       "   b'',\n",
       "   b''],\n",
       "  'freq_buffers': [b'\\x975\\x86\\xe3\\x88\\xa9\\xa1\\xa1\\x82\\x7f+\\x0bq\\x9a\\xe8M@\\x16\\xf4\\x81\\xbfD\\xf8k`\\x84\\xd6\\xde\\x8eq\\xf0\\xc4-\\xd4Cx\\x12\\xcf\\xba\\x89\\xfas&6\\xe8\\x85m&\\x10@0\\x91\\xa0\\x1b\\xfb|3\\x97\\x84\\xb6\\xea~b\\xef',\n",
       "   b'',\n",
       "   b'']}}"
      ]
     },
     "execution_count": 6,
     "metadata": {},
     "output_type": "execute_result"
    }
   ],
   "source": [
    "asm_prog = tc.run_assemble_stage(compiled_prog, channel_configs)\n",
    "asm_prog"
   ]
  },
  {
   "cell_type": "markdown",
   "id": "b95f36fa-ca1e-48af-84ce-41e6baeefaab",
   "metadata": {},
   "source": [
    "Outline for the rest of this:\n",
    "1. show pulse on Q0 and Q1\n",
    "2. introduce timing constaints (delay and barrier), and have them construct particular sequences\n",
    "3. demonstrate multiplexed readout (maybe demod also?)\n",
    "4. basic branching demo\n",
    "5. introduce looping/variables. task: generate n pulses with m varying amplitudes\n",
    "6. simple calibration sequences, like T1, T2, rabi, etc"
   ]
  },
  {
   "cell_type": "markdown",
   "id": "346ead52-e24e-47d1-8aed-2299e11d995d",
   "metadata": {},
   "source": [
    "## Instantiate the Simulator and Run Program\n",
    "\n",
    "The simulator is already running in a background docker container. It uses [cocotb](https://www.cocotb.org/) and [Verilator](https://www.veripool.org/verilator/) to simulate the core logical operations that would run on the FPGA, including the distributed core execution and full signal chain. Below, we instantiate a client that we can use to send QubiC programs to the simulator, and inspect the resulting behavior of the DAC output and readout signal chain."
   ]
  },
  {
   "cell_type": "code",
   "execution_count": 28,
   "id": "696b4b88-b9c1-46b2-86b8-fc81343dd671",
   "metadata": {},
   "outputs": [],
   "source": [
    "from importlib import reload\n",
    "import sim_client as sc; reload(sc)\n",
    "client = sc.SimClient()"
   ]
  },
  {
   "cell_type": "code",
   "execution_count": 37,
   "id": "33e430b2-528e-4adc-8c30-6aca89f3487b",
   "metadata": {},
   "outputs": [],
   "source": [
    "# send our program to the simulator, and run it for 300 ns\n",
    "client.run_program(asm_prog, sim_time=150.e-9)"
   ]
  },
  {
   "cell_type": "markdown",
   "id": "1cf37df2-b37c-480e-89a8-9c9a14d5ae86",
   "metadata": {},
   "source": [
    "The DAC output is stored in `client.dac_out`. We expect to see our pulse on **DAC channel 7**, since `channel_configs['Q0.qdrv'].core_ind = 7`. We can use the client object to plot this output:"
   ]
  },
  {
   "cell_type": "code",
   "execution_count": 38,
   "id": "e5bc2b76-f30c-4708-9c93-c3b33b2619b7",
   "metadata": {},
   "outputs": [
    {
     "data": {
      "image/png": "[encoded data removed]",
      "text/plain": [
       "<Figure size 432x288 with 1 Axes>"
      ]
     },
     "metadata": {
      "needs_background": "light"
     },
     "output_type": "display_data"
    }
   ],
   "source": [
    "# plot the output of DAC channel 7, from t = 110 ns to t = 150 ns (relative to the start of the simulation)\n",
    "client.plot_dac_out(7, 110.e-9, 150.e-9)"
   ]
  },
  {
   "cell_type": "markdown",
   "id": "45c6bc71-5288-48f3-ab30-a117200f1458",
   "metadata": {},
   "source": [
    "You probably noticed that the pulse starts \\~115 ns *after* the start of the simulation, even though it is scheduled to play immediately. Most of this latency (~100 ns) comes from synthesizing the pulse itself, while some is from the program initialization (e.g. issuing resets, initial triggers, etc)"
   ]
  },
  {
   "cell_type": "markdown",
   "id": "725f4fa7-7311-43d0-955b-4b7a1d085096",
   "metadata": {},
   "source": [
    "## Multiple Pulses"
   ]
  },
  {
   "cell_type": "markdown",
   "id": "585d7ade-825a-4b20-ac05-a1005f0106f1",
   "metadata": {},
   "source": [
    "Multiple pulses on the same channel are played sequentially. Pulses on separate channels are scheduled in parallel; i.e. each pulse is played as soon as it's output channel is available. \n",
    "\n",
    "### Two consecutive pulses on the same channel"
   ]
  },
  {
   "cell_type": "code",
   "execution_count": 39,
   "id": "597934c4-ddaa-446e-ab3f-17b022ec7c0a",
   "metadata": {},
   "outputs": [],
   "source": [
    "circuit = [\n",
    "    #play two pulses on the Q0 drive channel\n",
    "    {'name': 'pulse', 'phase': 0, 'freq': 4944383311, 'amp': 0.3, 'twidth': 2.4e-08,\n",
    "     'env': {'env_func': 'cos_edge_square', 'paradict': {'ramp_fraction': 0.25}},\n",
    "     'dest': 'Q0.qdrv'}, \n",
    "    \n",
    "    {'name': 'pulse', 'phase': 0, 'freq': 4944383311, 'amp': 0.6, 'twidth': 2.4e-08,\n",
    "     'env': {'env_func': 'cos_edge_square', 'paradict': {'ramp_fraction': 0.25}},\n",
    "     'dest': 'Q0.qdrv'}\n",
    "    \n",
    "]"
   ]
  },
  {
   "cell_type": "code",
   "execution_count": 40,
   "id": "8d21f0bb-1020-44bb-a8b3-e3c951fe5d08",
   "metadata": {},
   "outputs": [],
   "source": [
    "compiled_prog = tc.run_compile_stage(circuit, fpga_config, None)\n",
    "asm_prog = tc.run_assemble_stage(compiled_prog, channel_configs)"
   ]
  },
  {
   "cell_type": "code",
   "execution_count": 43,
   "id": "da1cabc4-b3ec-4a2e-a6e3-409a2a7d461e",
   "metadata": {},
   "outputs": [],
   "source": [
    "client.run_program(asm_prog, sim_time=200.e-9)"
   ]
  },
  {
   "cell_type": "code",
   "execution_count": 44,
   "id": "3e499e92-6f4c-4e35-924f-b618bc84d251",
   "metadata": {},
   "outputs": [
    {
     "data": {
      "image/png": "[encoded data removed]",
      "text/plain": [
       "<Figure size 432x288 with 1 Axes>"
      ]
     },
     "metadata": {
      "needs_background": "light"
     },
     "output_type": "display_data"
    }
   ],
   "source": [
    "client.plot_dac_out(7, 110.e-9, 200.e-9)"
   ]
  },
  {
   "cell_type": "markdown",
   "id": "6c88535c-9869-4b37-bae9-ea496029c358",
   "metadata": {},
   "source": [
    "### Add a pulse on a different channel"
   ]
  },
  {
   "cell_type": "code",
   "execution_count": 45,
   "id": "1fde4eb6-cb50-41da-a4fb-b4f43dc202b4",
   "metadata": {},
   "outputs": [],
   "source": [
    "circuit = [\n",
    "    # play two pulses on the Q0 drive channel\n",
    "    {'name': 'pulse', 'phase': 0, 'freq': 4944383311, 'amp': 0.3, 'twidth': 2.4e-08,\n",
    "     'env': {'env_func': 'cos_edge_square', 'paradict': {'ramp_fraction': 0.25}},\n",
    "     'dest': 'Q0.qdrv'}, \n",
    "    \n",
    "    {'name': 'pulse', 'phase': 0, 'freq': 4944383311, 'amp': 0.6, 'twidth': 2.4e-08,\n",
    "     'env': {'env_func': 'cos_edge_square', 'paradict': {'ramp_fraction': 0.25}},\n",
    "     'dest': 'Q0.qdrv'},\n",
    "    \n",
    "    # add a single pulse on Q1 drive -- this will be scheduled immediately, and played in parallel with the first Q0 pulse\n",
    "    {'name': 'pulse', 'phase': 0, 'freq': 4944383311, 'amp': 0.6, 'twidth': 2.4e-08,\n",
    "     'env': {'env_func': 'cos_edge_square', 'paradict': {'ramp_fraction': 0.25}},\n",
    "     'dest': 'Q1.qdrv'}\n",
    "    \n",
    "]"
   ]
  },
  {
   "cell_type": "code",
   "execution_count": 46,
   "id": "1430462a-84a0-4ff0-a834-4b2ebe83ea2d",
   "metadata": {},
   "outputs": [],
   "source": [
    "compiled_prog = tc.run_compile_stage(circuit, fpga_config, None)\n",
    "asm_prog = tc.run_assemble_stage(compiled_prog, channel_configs)"
   ]
  },
  {
   "cell_type": "code",
   "execution_count": 47,
   "id": "b3377cec-063d-440f-960d-3aa3f7abc17f",
   "metadata": {},
   "outputs": [],
   "source": [
    "client.run_program(asm_prog, sim_time=200.e-9)"
   ]
  },
  {
   "cell_type": "code",
   "execution_count": 49,
   "id": "fffd1b52-e6b0-4aa5-9b6f-035a3579b25f",
   "metadata": {},
   "outputs": [
    {
     "data": {
      "image/png": "[encoded data removed]",
      "text/plain": [
       "<Figure size 432x288 with 1 Axes>"
      ]
     },
     "metadata": {
      "needs_background": "light"
     },
     "output_type": "display_data"
    },
    {
     "data": {
      "image/png": "[encoded data removed]",
      "text/plain": [
       "<Figure size 432x288 with 1 Axes>"
      ]
     },
     "metadata": {
      "needs_background": "light"
     },
     "output_type": "display_data"
    }
   ],
   "source": [
    "client.plot_dac_out(7, 110.e-9, 200.e-9)\n",
    "client.plot_dac_out(channel_configs['Q1.qdrv'].core_ind, 110.e-9, 200.e-9)"
   ]
  },
  {
   "cell_type": "markdown",
   "id": "434f9ad3-c229-4d72-b918-acd2404fcef6",
   "metadata": {},
   "source": [
    "### Timing Constraints"
   ]
  },
  {
   "cell_type": "markdown",
   "id": "125f79a3-95db-4f5d-b765-dd583659a9cc",
   "metadata": {},
   "source": [
    "Delays and barriers can be used to control when pulses are played relative to one another:\n",
    "  - `delay`: delay subsequent pulses on all channels in `scope` by amount `t` (in seconds). If `scope` is not provided, delay all channels\n",
    "  - `barrier`: insert a scheduling barrier that applies to all channels in `scope`. All subsequent pulses on those channels are scheduled to play after the last pulse before the barrier (on those same channels) has finished (this is very similar to the behavior of a barrier in Qiskit). As with the `delay` instruction, if no channels are provided in `scope`, the barrier is applied to all channels.\n",
    "\n",
    "Extras: \n",
    "\n",
    "3. Scoped delays and barriers -- play the following pulse sequence:"
   ]
  },
  {
   "cell_type": "raw",
   "id": "fba549f3-f368-4f15-8fa9-426331007e0f",
   "metadata": {},
   "source": [
    "Q0 -- pulse - pulse\n",
    "Q1 ---------------- pulse\n",
    "Q2 -- pulse - ----------- pulse"
   ]
  },
  {
   "cell_type": "code",
   "execution_count": 4,
   "id": "5800ddbd-ccf7-4e32-8c87-b639d9472161",
   "metadata": {},
   "outputs": [],
   "source": [
    "circuit = [\n",
    "    #play two pulses on the Q0 drive channel\n",
    "    {'name': 'pulse', 'phase': 0, 'freq': 4944383311, 'amp': 0.3, 'twidth': 2.4e-08,\n",
    "     'env': {'env_func': 'cos_edge_square', 'paradict': {'ramp_fraction': 0.25}},\n",
    "     'dest': 'Q0.qdrv'}, \n",
    "    \n",
    "    {'name': 'pulse', 'phase': 0, 'freq': 4944383311, 'amp': 0.6, 'twidth': 2.4e-08,\n",
    "     'env': {'env_func': 'cos_edge_square', 'paradict': {'ramp_fraction': 0.25}},\n",
    "     'dest': 'Q0.qdrv'},\n",
    "    \n",
    "    {'name': 'barrier'}, \n",
    "    \n",
    "    {'name': 'pulse', 'phase': 0, 'freq': 4944383311, 'amp': 0.6, 'twidth': 2.4e-08,\n",
    "     'env': {'env_func': 'cos_edge_square', 'paradict': {'ramp_fraction': 0.25}},\n",
    "     'dest': 'Q1.qdrv'}\n",
    "    \n",
    "]"
   ]
  },
  {
   "cell_type": "code",
   "execution_count": 6,
   "id": "bf1196cc-b465-4d80-bbc0-cd2c3a7f19fd",
   "metadata": {},
   "outputs": [],
   "source": [
    "circuit = [\n",
    "    #play two pulses on the Q0 drive channel\n",
    "    {'name': 'pulse', 'phase': 0, 'freq': 4944383311, 'amp': 0.3, 'twidth': 2.4e-08,\n",
    "     'env': {'env_func': 'cos_edge_square', 'paradict': {'ramp_fraction': 0.25}},\n",
    "     'dest': 'Q0.qdrv'}, \n",
    "    \n",
    "    {'name': 'delay', 't': 500.e-9},\n",
    "    \n",
    "    {'name': 'pulse', 'phase': 0, 'freq': 4944383311, 'amp': 0.6, 'twidth': 2.4e-08,\n",
    "     'env': {'env_func': 'cos_edge_square', 'paradict': {'ramp_fraction': 0.25}},\n",
    "     'dest': 'Q0.qdrv'},\n",
    "    \n",
    "    {'name': 'barrier'}, \n",
    "    \n",
    "    {'name': 'pulse', 'phase': 0, 'freq': 4944383311, 'amp': 0.6, 'twidth': 2.4e-08,\n",
    "     'env': {'env_func': 'cos_edge_square', 'paradict': {'ramp_fraction': 0.25}},\n",
    "     'dest': 'Q1.qdrv'}\n",
    "    \n",
    "]"
   ]
  },
  {
   "cell_type": "markdown",
   "id": "7a264fa2-3d4f-4e0d-b78f-b795c3e9f1e1",
   "metadata": {},
   "source": [
    "## Gates\n",
    "\n",
    "Calibrated gate information can be stored in a json file (example: qubitcfg.json) and referenced in QubiC circuits. Each gate consists of a list of a list of pulses\n",
    "\n",
    "### Example of X90 gate on Q0"
   ]
  },
  {
   "cell_type": "raw",
   "id": "a2b16620-80a6-4530-a47e-15915b019b82",
   "metadata": {},
   "source": [
    "\"Q0X90\": [\n",
    "            {\n",
    "                \"freq\": \"Q0.freq\",\n",
    "                \"phase\": 0.0,\n",
    "                \"dest\": \"Q0.qdrv\",\n",
    "                \"twidth\": 2.4e-08,\n",
    "                \"t0\": 0.0,\n",
    "                \"amp\": 0.11222212331696187,\n",
    "                \"env\": [\n",
    "                    {\n",
    "                        \"env_func\": \"cos_edge_square\",\n",
    "                        \"paradict\": {\n",
    "                            \"ramp_fraction\": 0.25\n",
    "                        }\n",
    "                    }\n",
    "                ]\n",
    "            }\n",
    "        ]"
   ]
  },
  {
   "cell_type": "markdown",
   "id": "f03920a1-dde7-48ab-9114-79a9cda087c4",
   "metadata": {},
   "source": [
    "### Example of CNOT gate, consisting of a composite list of pulses"
   ]
  },
  {
   "cell_type": "raw",
   "id": "00120ce5-4344-4a3d-b4c9-809eabf4b318",
   "metadata": {},
   "source": [
    "\"Q2Q1CNOT\": [\n",
    "            {\n",
    "                \"gate\": \"virtualz\",\n",
    "                \"freq\": \"Q1.freq\",\n",
    "                \"phase\": -4.645855388119304\n",
    "            },\n",
    "            {\n",
    "                \"gate\": \"Q2Q1CR\"\n",
    "            },\n",
    "            {\n",
    "                \"gate\": \"virtualz\",\n",
    "                \"freq\": \"Q1.freq\",\n",
    "                \"phase\": 4.645855388119304\n",
    "            },\n",
    "            {\n",
    "                \"gate\": \"virtualz\",\n",
    "                \"freq\": \"Q2.freq\",\n",
    "                \"phase\": 4.21833701036719\n",
    "            },\n",
    "            {\n",
    "                \"freq\": \"Q1.freq\",\n",
    "                \"phase\": 0,\n",
    "                \"dest\": \"Q1.qdrv\",\n",
    "                \"twidth\": 3.2e-08,\n",
    "                \"t0\": 3e-07,\n",
    "                \"amp\": 0.14244080983375557,\n",
    "                \"env\": [\n",
    "                    {\n",
    "                        \"env_func\": \"cos_edge_square\",\n",
    "                        \"paradict\": {\n",
    "                            \"ramp_fraction\": 0.25\n",
    "                        }\n",
    "                    }\n",
    "                ]\n",
    "            }\n",
    "        ]"
   ]
  },
  {
   "cell_type": "code",
   "execution_count": 11,
   "id": "baf41c9d-4dd6-452d-a618-a29de52ae9b1",
   "metadata": {},
   "outputs": [],
   "source": [
    "circuit = [\n",
    "    # this circuit plays calibrated X90 gates\n",
    "    {'name': 'X90', 'qubit': 'Q0'},\n",
    "    {'name': 'X90', 'qubit': 'Q1'}]"
   ]
  },
  {
   "cell_type": "code",
   "execution_count": 12,
   "id": "2bcc8ef1-8643-4371-a1cc-4cb51a9b2dd9",
   "metadata": {},
   "outputs": [],
   "source": [
    "# load in configuration from qubitcfg.json\n",
    "qchip = qc.QChip('qubitcfg.json')"
   ]
  },
  {
   "cell_type": "code",
   "execution_count": 13,
   "id": "59051ec0-3e22-4297-a156-f36aeb741b40",
   "metadata": {},
   "outputs": [
    {
     "data": {
      "text/plain": [
       "[{'freq': 'Q0.freq',\n",
       "  'phase': 0.0,\n",
       "  'dest': 'Q0.qdrv',\n",
       "  'twidth': 2.4e-08,\n",
       "  't0': 0.0,\n",
       "  'amp': 0.11222212331696187,\n",
       "  'env': [{'env_func': 'cos_edge_square',\n",
       "    'paradict': {'ramp_fraction': 0.25}}]}]"
      ]
     },
     "execution_count": 13,
     "metadata": {},
     "output_type": "execute_result"
    }
   ],
   "source": [
    "# inspect a gate\n",
    "qchip.gates['Q0X90'].cfg_dict"
   ]
  },
  {
   "cell_type": "code",
   "execution_count": 14,
   "id": "7bb7c135-edeb-496e-b566-30104524323e",
   "metadata": {},
   "outputs": [],
   "source": [
    "# link the qchip configuration at compile time\n",
    "compiled_prog = tc.run_compile_stage(circuit, fpga_config, qchip)"
   ]
  },
  {
   "cell_type": "code",
   "execution_count": null,
   "id": "c36733c6-63f4-4cac-b929-1a00a7be41de",
   "metadata": {},
   "outputs": [],
   "source": []
  }
 ],
 "metadata": {
  "kernelspec": {
   "display_name": "Python 3 (ipykernel)",
   "language": "python",
   "name": "python3"
  },
  "language_info": {
   "codemirror_mode": {
    "name": "ipython",
    "version": 3
   },
   "file_extension": ".py",
   "mimetype": "text/x-python",
   "name": "python",
   "nbconvert_exporter": "python",
   "pygments_lexer": "ipython3",
   "version": "3.10.0"
  }
 },
 "nbformat": 4,
 "nbformat_minor": 5
}
