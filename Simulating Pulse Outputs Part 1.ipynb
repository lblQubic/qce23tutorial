{
 "cells": [
  {
   "cell_type": "code",
   "execution_count": 1,
   "id": "a2c33014",
   "metadata": {},
   "outputs": [],
   "source": [
    "import qubic.toolchain as tc\n",
    "import qubic.rpc_client as rc\n",
    "import qubitconfig.qchip as qc\n",
    "from distproc.hwconfig import FPGAConfig, load_channel_configs\n",
    "import numpy as np\n",
    "import matplotlib.pyplot as plt"
   ]
  },
  {
   "cell_type": "markdown",
   "id": "fb8b121e",
   "metadata": {},
   "source": [
    "# Play a simple pulse\n",
    "\n",
    "## Load configuration information"
   ]
  },
  {
   "cell_type": "markdown",
   "id": "1e68f6d1",
   "metadata": {},
   "source": [
    "1) define FPGA config; this has timing information for the scheduler. For now it is fine to use the following hardcoded config TODO for tutorial: put these parameters somewhere in the repo so it's not hardcoded for the demo"
   ]
  },
  {
   "cell_type": "code",
   "execution_count": 2,
   "id": "66196869",
   "metadata": {},
   "outputs": [],
   "source": [
    "fpga_config = FPGAConfig(**{'fpga_clk_period': 2.e-9, \n",
    "                            'alu_instr_clks': 5, \n",
    "                            'jump_cond_clks': 5, \n",
    "                            'jump_fproc_clks': 5, \n",
    "                            'pulse_regwrite_clks': 3})"
   ]
  },
  {
   "cell_type": "markdown",
   "id": "482dbaba",
   "metadata": {},
   "source": [
    "2. load channel configs, which assign named output channels to physical DAC outputs (or readout downconversion channels) and configure signal generator parameters. (see [Understanding Channel Configuration](https://gitlab.com/LBL-QubiC/software/-/wikis/Understanding-Channel-Configuration) for details)\n"
   ]
  },
  {
   "cell_type": "code",
   "execution_count": 3,
   "id": "7f604cfd",
   "metadata": {},
   "outputs": [],
   "source": [
    "channel_configs = load_channel_configs('channel_config.json')"
   ]
  },
  {
   "cell_type": "markdown",
   "id": "0bff8a3b-889d-491b-bf13-402c8fe7a2ab",
   "metadata": {},
   "source": [
    "example channel config for named output 'Q0.qdrv' (qubit drive channel for physical qubit 'Q0'): \n",
    "\n",
    "`ChannelConfig(core_ind=7, elem_ind=0, elem_params={'samples_per_clk': 16, 'interp_ratio': 1}, _env_mem_name='qdrvenv{core_ind}', _freq_mem_name='qdrvfreq{core_ind}', _acc_mem_name='accbuf{core_ind}')`\n",
    "\n",
    "The physical output channel is given by `core_ind` and `elem_ind`, while signal generator params are given by `elem_params`.\n"
   ]
  },
  {
   "cell_type": "markdown",
   "id": "8ee90e88",
   "metadata": {},
   "source": [
    "## Define the pulse sequence"
   ]
  },
  {
   "cell_type": "markdown",
   "id": "9d4f76de-c8c7-49e9-90a7-c7533126f790",
   "metadata": {},
   "source": [
    "QubiC circuits (or \"programs\") are defined as lists of dictionary. Each dictionary is a pulse command, program statement, or timing construct"
   ]
  },
  {
   "cell_type": "code",
   "execution_count": 5,
   "id": "3b43636e",
   "metadata": {},
   "outputs": [],
   "source": [
    "circuit = [\n",
    "    #play a single pulse on the Q0 drive channel\n",
    "    {'name': 'pulse', 'phase': 0, 'freq': 4944383311, 'amp': 0.334704954261188, 'twidth': 2.4e-08,\n",
    "     'env': {'env_func': 'cos_edge_square', 'paradict': {'ramp_fraction': 0.25}},\n",
    "     'dest': 'Q0.qdrv'}, \n",
    "    \n",
    "]"
   ]
  },
  {
   "cell_type": "markdown",
   "id": "0d312a98",
   "metadata": {},
   "source": [
    "## Compile and Assemble\n",
    "\n",
    "Compile the program. Since we don't have any references to gates, we can pass None to the qchip argument. The output of the compile stage is a distributed processor assembly program, which consists of initialization/termination statements, as well as a list of scheduled pulses for each core. Our program only uses one processor core, scoped to channels `('Q0.qdrv', 'Q0.rdrv', 'Q0.rdlo')`."
   ]
  },
  {
   "cell_type": "code",
   "execution_count": 6,
   "id": "809d68fb",
   "metadata": {},
   "outputs": [
    {
     "data": {
      "text/plain": [
       "{('Q0.qdrv', 'Q0.rdrv', 'Q0.rdlo'): [{'op': 'phase_reset'},\n",
       "  {'op': 'pulse',\n",
       "   'freq': 4944383311,\n",
       "   'phase': 0,\n",
       "   'amp': 0.334704954261188,\n",
       "   'env': {'env_func': 'cos_edge_square',\n",
       "    'paradict': {'ramp_fraction': 0.25, 'twidth': 2.4e-08}},\n",
       "   'start_time': 5,\n",
       "   'dest': 'Q0.qdrv'},\n",
       "  {'op': 'done_stb'}]}"
      ]
     },
     "execution_count": 6,
     "metadata": {},
     "output_type": "execute_result"
    }
   ],
   "source": [
    "compiled_prog = tc.run_compile_stage(circuit, fpga_config, None)\n",
    "compiled_prog.program"
   ]
  },
  {
   "cell_type": "markdown",
   "id": "795740b0",
   "metadata": {},
   "source": [
    "Run the assembler to convert the above program into machine code that we can load onto the FPGA or gateware simulation:"
   ]
  },
  {
   "cell_type": "code",
   "execution_count": 7,
   "id": "e8892988",
   "metadata": {},
   "outputs": [],
   "source": [
    "raw_asm = tc.run_assemble_stage(compiled_prog, channel_configs)"
   ]
  },
  {
   "cell_type": "markdown",
   "id": "b95f36fa-ca1e-48af-84ce-41e6baeefaab",
   "metadata": {},
   "source": [
    "Outline for the rest of this:\n",
    "1. show pulse on Q0 and Q1\n",
    "2. introduce timing constaints (delay and barrier), and have them "
   ]
  }
 ],
 "metadata": {
  "kernelspec": {
   "display_name": "Python 3 (ipykernel)",
   "language": "python",
   "name": "python3"
  },
  "language_info": {
   "codemirror_mode": {
    "name": "ipython",
    "version": 3
   },
   "file_extension": ".py",
   "mimetype": "text/x-python",
   "name": "python",
   "nbconvert_exporter": "python",
   "pygments_lexer": "ipython3",
   "version": "3.11.3"
  }
 },
 "nbformat": 4,
 "nbformat_minor": 5
}
