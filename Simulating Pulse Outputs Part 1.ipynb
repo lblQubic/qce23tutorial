{
 "cells": [
  {
   "cell_type": "code",
   "execution_count": 7,
   "id": "a2c33014",
   "metadata": {},
   "outputs": [],
   "source": [
    "import qubic.toolchain as tc\n",
    "import qubic.rpc_client as rc\n",
    "import qubitconfig.qchip as qc\n",
    "from distproc.hwconfig import FPGAConfig, load_channel_configs\n",
    "import numpy as np\n",
    "import matplotlib.pyplot as plt"
   ]
  },
  {
   "cell_type": "markdown",
   "id": "fb8b121e",
   "metadata": {},
   "source": [
    "# Play a simple pulse\n",
    "\n",
    "## Load configuration information"
   ]
  },
  {
   "cell_type": "markdown",
   "id": "1e68f6d1",
   "metadata": {},
   "source": [
    "1) define FPGA config; this has timing information for the scheduler. For now it is fine to use the following hardcoded config TODO for tutorial: put these parameters somewhere in the repo so it's not hardcoded for the demo"
   ]
  },
  {
   "cell_type": "code",
   "execution_count": 8,
   "id": "66196869",
   "metadata": {},
   "outputs": [],
   "source": [
    "fpga_config = FPGAConfig(**{'fpga_clk_period': 2.e-9, \n",
    "                            'alu_instr_clks': 5, \n",
    "                            'jump_cond_clks': 5, \n",
    "                            'jump_fproc_clks': 5, \n",
    "                            'pulse_regwrite_clks': 3})"
   ]
  },
  {
   "cell_type": "markdown",
   "id": "482dbaba",
   "metadata": {},
   "source": [
    "2. load channel configs, which assign named output channels to physical DAC outputs (or readout downconversion channels) and configure signal generator parameters. (see [Understanding Channel Configuration](https://gitlab.com/LBL-QubiC/software/-/wikis/Understanding-Channel-Configuration) for details)\n"
   ]
  },
  {
   "cell_type": "code",
   "execution_count": 9,
   "id": "7f604cfd",
   "metadata": {},
   "outputs": [],
   "source": [
    "channel_configs = load_channel_configs('channel_config.json')"
   ]
  },
  {
   "cell_type": "markdown",
   "id": "0bff8a3b-889d-491b-bf13-402c8fe7a2ab",
   "metadata": {},
   "source": [
    "example channel config for named output 'Q0.qdrv' (qubit drive channel for physical qubit 'Q0'): \n",
    "\n",
    "`ChannelConfig(core_ind=7, elem_ind=0, elem_params={'samples_per_clk': 16, 'interp_ratio': 1}, _env_mem_name='qdrvenv{core_ind}', _freq_mem_name='qdrvfreq{core_ind}', _acc_mem_name='accbuf{core_ind}')`\n",
    "\n",
    "The physical output channel is given by `core_ind` and `elem_ind`, while signal generator params are given by `elem_params`.\n"
   ]
  },
  {
   "cell_type": "markdown",
   "id": "8ee90e88",
   "metadata": {},
   "source": [
    "## Define the pulse sequence"
   ]
  },
  {
   "cell_type": "markdown",
   "id": "9d4f76de-c8c7-49e9-90a7-c7533126f790",
   "metadata": {},
   "source": [
    "QubiC circuits (or \"programs\") are defined as lists of dictionary. Each dictionary is a pulse command, program statement, or timing construct"
   ]
  },
  {
   "cell_type": "code",
   "execution_count": 5,
   "id": "3b43636e",
   "metadata": {},
   "outputs": [],
   "source": [
    "circuit = [\n",
    "    #play a single pulse on the Q0 drive channel\n",
    "    {'name': 'pulse', 'phase': 0, 'freq': 4944383311, 'amp': 0.334704954261188, 'twidth': 2.4e-08,\n",
    "     'env': {'env_func': 'cos_edge_square', 'paradict': {'ramp_fraction': 0.25}},\n",
    "     'dest': 'Q0.qdrv'}, \n",
    "    \n",
    "]"
   ]
  },
  {
   "cell_type": "markdown",
   "id": "21258b1d-e2ee-4be6-bf04-6b92ffaa2b13",
   "metadata": {},
   "source": [
    "The default library of envelope functions is given in <link>. Alternatively, a numpy array of samples can be provided. A custom envelope library can also be passed in during the compile stage."
   ]
  },
  {
   "cell_type": "markdown",
   "id": "0d312a98",
   "metadata": {},
   "source": [
    "## Compile and Assemble\n",
    "\n",
    "Compile the program. Since we don't have any references to gates, we can pass None to the qchip argument. The output of the compile stage is a distributed processor assembly program, which consists of initialization/termination statements, as well as a list of scheduled pulses for each core. Our program only uses one processor core, scoped to channels `('Q0.qdrv', 'Q0.rdrv', 'Q0.rdlo')`."
   ]
  },
  {
   "cell_type": "code",
   "execution_count": 6,
   "id": "809d68fb",
   "metadata": {},
   "outputs": [
    {
     "data": {
      "text/plain": [
       "{('Q0.qdrv', 'Q0.rdrv', 'Q0.rdlo'): [{'op': 'phase_reset'},\n",
       "  {'op': 'pulse',\n",
       "   'freq': 4944383311,\n",
       "   'phase': 0,\n",
       "   'amp': 0.334704954261188,\n",
       "   'env': {'env_func': 'cos_edge_square',\n",
       "    'paradict': {'ramp_fraction': 0.25, 'twidth': 2.4e-08}},\n",
       "   'start_time': 5,\n",
       "   'dest': 'Q0.qdrv'},\n",
       "  {'op': 'done_stb'}]}"
      ]
     },
     "execution_count": 6,
     "metadata": {},
     "output_type": "execute_result"
    }
   ],
   "source": [
    "compiled_prog = tc.run_compile_stage(circuit, fpga_config, None)\n",
    "compiled_prog.program"
   ]
  },
  {
   "cell_type": "markdown",
   "id": "795740b0",
   "metadata": {},
   "source": [
    "Run the assembler to convert the above program into machine code that we can load onto the FPGA or gateware simulation:"
   ]
  },
  {
   "cell_type": "code",
   "execution_count": 7,
   "id": "e8892988",
   "metadata": {},
   "outputs": [],
   "source": [
    "asm_prog = tc.run_assemble_stage(compiled_prog, channel_configs)\n",
    "asm_prog"
   ]
  },
  {
   "cell_type": "markdown",
   "id": "b95f36fa-ca1e-48af-84ce-41e6baeefaab",
   "metadata": {},
   "source": [
    "Outline for the rest of this:\n",
    "1. show pulse on Q0 and Q1\n",
    "2. introduce timing constaints (delay and barrier), and have them construct particular sequences\n",
    "3. demonstrate multiplexed readout (maybe demod also?)\n",
    "4. basic branching demo\n",
    "5. introduce looping/variables. task: generate n pulses with m varying amplitudes\n",
    "6. simple calibration sequences, like T1, T2, rabi, etc"
   ]
  },
  {
   "cell_type": "markdown",
   "id": "346ead52-e24e-47d1-8aed-2299e11d995d",
   "metadata": {},
   "source": [
    "Send circuit to simulator and plot output:"
   ]
  },
  {
   "cell_type": "markdown",
   "id": "725f4fa7-7311-43d0-955b-4b7a1d085096",
   "metadata": {},
   "source": [
    "## Multiple Pulses"
   ]
  },
  {
   "cell_type": "markdown",
   "id": "585d7ade-825a-4b20-ac05-a1005f0106f1",
   "metadata": {},
   "source": [
    "Multiple pulses on the same channel are played sequentially. Pulses on separate channels are scheduled in parallel; i.e. each pulse is played as soon as it's output channel is available. \n",
    "\n",
    "Excercises:\n",
    "  1. Try playing two or more pulses on the same channel\n",
    "  2. Add a pulse or two to Q1.qdrv"
   ]
  },
  {
   "cell_type": "code",
   "execution_count": 2,
   "id": "597934c4-ddaa-446e-ab3f-17b022ec7c0a",
   "metadata": {},
   "outputs": [],
   "source": [
    "circuit = [\n",
    "    #play two pulses on the Q0 drive channel\n",
    "    {'name': 'pulse', 'phase': 0, 'freq': 4944383311, 'amp': 0.3, 'twidth': 2.4e-08,\n",
    "     'env': {'env_func': 'cos_edge_square', 'paradict': {'ramp_fraction': 0.25}},\n",
    "     'dest': 'Q0.qdrv'}, \n",
    "    \n",
    "    {'name': 'pulse', 'phase': 0, 'freq': 4944383311, 'amp': 0.6, 'twidth': 2.4e-08,\n",
    "     'env': {'env_func': 'cos_edge_square', 'paradict': {'ramp_fraction': 0.25}},\n",
    "     'dest': 'Q0.qdrv'}\n",
    "    \n",
    "]"
   ]
  },
  {
   "cell_type": "code",
   "execution_count": null,
   "id": "1fde4eb6-cb50-41da-a4fb-b4f43dc202b4",
   "metadata": {},
   "outputs": [],
   "source": [
    "circuit = [\n",
    "    #play two pulses on the Q0 drive channel\n",
    "    {'name': 'pulse', 'phase': 0, 'freq': 4944383311, 'amp': 0.3, 'twidth': 2.4e-08,\n",
    "     'env': {'env_func': 'cos_edge_square', 'paradict': {'ramp_fraction': 0.25}},\n",
    "     'dest': 'Q0.qdrv'}, \n",
    "    \n",
    "    {'name': 'pulse', 'phase': 0, 'freq': 4944383311, 'amp': 0.6, 'twidth': 2.4e-08,\n",
    "     'env': {'env_func': 'cos_edge_square', 'paradict': {'ramp_fraction': 0.25}},\n",
    "     'dest': 'Q0.qdrv'},\n",
    "    \n",
    "    {'name': 'pulse', 'phase': 0, 'freq': 4944383311, 'amp': 0.6, 'twidth': 2.4e-08,\n",
    "     'env': {'env_func': 'cos_edge_square', 'paradict': {'ramp_fraction': 0.25}},\n",
    "     'dest': 'Q1.qdrv'}\n",
    "    \n",
    "]"
   ]
  },
  {
   "cell_type": "markdown",
   "id": "434f9ad3-c229-4d72-b918-acd2404fcef6",
   "metadata": {},
   "source": [
    "### Timing Constraints"
   ]
  },
  {
   "cell_type": "markdown",
   "id": "125f79a3-95db-4f5d-b765-dd583659a9cc",
   "metadata": {},
   "source": [
    "Delays and barriers can be used to control when pulses are played relative to one another. Exercises:\n",
    "  1. Play a pulse on Q1 after both pulses on Q0\n",
    "  2. Apply a delay between the two Q0 pulses\n",
    "  \n",
    "Extrass: \n",
    "\n",
    "3. Scoped delays and barriers -- play the following pulse sequence:"
   ]
  },
  {
   "cell_type": "raw",
   "id": "fba549f3-f368-4f15-8fa9-426331007e0f",
   "metadata": {},
   "source": [
    "Q0 -- pulse - pulse\n",
    "Q1 ---------------- pulse\n",
    "Q2 -- pulse - ----------- pulse"
   ]
  },
  {
   "cell_type": "code",
   "execution_count": 4,
   "id": "5800ddbd-ccf7-4e32-8c87-b639d9472161",
   "metadata": {},
   "outputs": [],
   "source": [
    "circuit = [\n",
    "    #play two pulses on the Q0 drive channel\n",
    "    {'name': 'pulse', 'phase': 0, 'freq': 4944383311, 'amp': 0.3, 'twidth': 2.4e-08,\n",
    "     'env': {'env_func': 'cos_edge_square', 'paradict': {'ramp_fraction': 0.25}},\n",
    "     'dest': 'Q0.qdrv'}, \n",
    "    \n",
    "    {'name': 'pulse', 'phase': 0, 'freq': 4944383311, 'amp': 0.6, 'twidth': 2.4e-08,\n",
    "     'env': {'env_func': 'cos_edge_square', 'paradict': {'ramp_fraction': 0.25}},\n",
    "     'dest': 'Q0.qdrv'},\n",
    "    \n",
    "    {'name': 'barrier'}, \n",
    "    \n",
    "    {'name': 'pulse', 'phase': 0, 'freq': 4944383311, 'amp': 0.6, 'twidth': 2.4e-08,\n",
    "     'env': {'env_func': 'cos_edge_square', 'paradict': {'ramp_fraction': 0.25}},\n",
    "     'dest': 'Q1.qdrv'}\n",
    "    \n",
    "]"
   ]
  },
  {
   "cell_type": "code",
   "execution_count": 6,
   "id": "bf1196cc-b465-4d80-bbc0-cd2c3a7f19fd",
   "metadata": {},
   "outputs": [],
   "source": [
    "circuit = [\n",
    "    #play two pulses on the Q0 drive channel\n",
    "    {'name': 'pulse', 'phase': 0, 'freq': 4944383311, 'amp': 0.3, 'twidth': 2.4e-08,\n",
    "     'env': {'env_func': 'cos_edge_square', 'paradict': {'ramp_fraction': 0.25}},\n",
    "     'dest': 'Q0.qdrv'}, \n",
    "    \n",
    "    {'name': 'delay', 't': 500.e-9},\n",
    "    \n",
    "    {'name': 'pulse', 'phase': 0, 'freq': 4944383311, 'amp': 0.6, 'twidth': 2.4e-08,\n",
    "     'env': {'env_func': 'cos_edge_square', 'paradict': {'ramp_fraction': 0.25}},\n",
    "     'dest': 'Q0.qdrv'},\n",
    "    \n",
    "    {'name': 'barrier'}, \n",
    "    \n",
    "    {'name': 'pulse', 'phase': 0, 'freq': 4944383311, 'amp': 0.6, 'twidth': 2.4e-08,\n",
    "     'env': {'env_func': 'cos_edge_square', 'paradict': {'ramp_fraction': 0.25}},\n",
    "     'dest': 'Q1.qdrv'}\n",
    "    \n",
    "]"
   ]
  },
  {
   "cell_type": "markdown",
   "id": "7a264fa2-3d4f-4e0d-b78f-b795c3e9f1e1",
   "metadata": {},
   "source": [
    "## Gates\n",
    "\n",
    "Calibrated gate information can be stored in a json file (example: qubitcfg.json) and referenced in QubiC circuits. Each gate consists of a list of a list of pulses\n",
    "\n",
    "### Example of X90 gate on Q0"
   ]
  },
  {
   "cell_type": "raw",
   "id": "a2b16620-80a6-4530-a47e-15915b019b82",
   "metadata": {},
   "source": [
    "\"Q0X90\": [\n",
    "            {\n",
    "                \"freq\": \"Q0.freq\",\n",
    "                \"phase\": 0.0,\n",
    "                \"dest\": \"Q0.qdrv\",\n",
    "                \"twidth\": 2.4e-08,\n",
    "                \"t0\": 0.0,\n",
    "                \"amp\": 0.11222212331696187,\n",
    "                \"env\": [\n",
    "                    {\n",
    "                        \"env_func\": \"cos_edge_square\",\n",
    "                        \"paradict\": {\n",
    "                            \"ramp_fraction\": 0.25\n",
    "                        }\n",
    "                    }\n",
    "                ]\n",
    "            }\n",
    "        ]"
   ]
  },
  {
   "cell_type": "markdown",
   "id": "f03920a1-dde7-48ab-9114-79a9cda087c4",
   "metadata": {},
   "source": [
    "### Example of CNOT gate, consisting of a composite list of pulses"
   ]
  },
  {
   "cell_type": "raw",
   "id": "00120ce5-4344-4a3d-b4c9-809eabf4b318",
   "metadata": {},
   "source": [
    "\"Q2Q1CNOT\": [\n",
    "            {\n",
    "                \"gate\": \"virtualz\",\n",
    "                \"freq\": \"Q1.freq\",\n",
    "                \"phase\": -4.645855388119304\n",
    "            },\n",
    "            {\n",
    "                \"gate\": \"Q2Q1CR\"\n",
    "            },\n",
    "            {\n",
    "                \"gate\": \"virtualz\",\n",
    "                \"freq\": \"Q1.freq\",\n",
    "                \"phase\": 4.645855388119304\n",
    "            },\n",
    "            {\n",
    "                \"gate\": \"virtualz\",\n",
    "                \"freq\": \"Q2.freq\",\n",
    "                \"phase\": 4.21833701036719\n",
    "            },\n",
    "            {\n",
    "                \"freq\": \"Q1.freq\",\n",
    "                \"phase\": 0,\n",
    "                \"dest\": \"Q1.qdrv\",\n",
    "                \"twidth\": 3.2e-08,\n",
    "                \"t0\": 3e-07,\n",
    "                \"amp\": 0.14244080983375557,\n",
    "                \"env\": [\n",
    "                    {\n",
    "                        \"env_func\": \"cos_edge_square\",\n",
    "                        \"paradict\": {\n",
    "                            \"ramp_fraction\": 0.25\n",
    "                        }\n",
    "                    }\n",
    "                ]\n",
    "            }\n",
    "        ]"
   ]
  },
  {
   "cell_type": "code",
   "execution_count": 11,
   "id": "baf41c9d-4dd6-452d-a618-a29de52ae9b1",
   "metadata": {},
   "outputs": [],
   "source": [
    "circuit = [\n",
    "    # this circuit plays calibrated X90 gates\n",
    "    {'name': 'X90', 'qubit': 'Q0'},\n",
    "    {'name': 'X90', 'qubit': 'Q1'}]"
   ]
  },
  {
   "cell_type": "code",
   "execution_count": 12,
   "id": "2bcc8ef1-8643-4371-a1cc-4cb51a9b2dd9",
   "metadata": {},
   "outputs": [],
   "source": [
    "# load in configuration from qubitcfg.json\n",
    "qchip = qc.QChip('qubitcfg.json')"
   ]
  },
  {
   "cell_type": "code",
   "execution_count": 13,
   "id": "59051ec0-3e22-4297-a156-f36aeb741b40",
   "metadata": {},
   "outputs": [
    {
     "data": {
      "text/plain": [
       "[{'freq': 'Q0.freq',\n",
       "  'phase': 0.0,\n",
       "  'dest': 'Q0.qdrv',\n",
       "  'twidth': 2.4e-08,\n",
       "  't0': 0.0,\n",
       "  'amp': 0.11222212331696187,\n",
       "  'env': [{'env_func': 'cos_edge_square',\n",
       "    'paradict': {'ramp_fraction': 0.25}}]}]"
      ]
     },
     "execution_count": 13,
     "metadata": {},
     "output_type": "execute_result"
    }
   ],
   "source": [
    "# inspect a gate\n",
    "qchip.gates['Q0X90'].cfg_dict"
   ]
  },
  {
   "cell_type": "code",
   "execution_count": 14,
   "id": "7bb7c135-edeb-496e-b566-30104524323e",
   "metadata": {},
   "outputs": [],
   "source": [
    "# link the qchip configuration at compile time\n",
    "compiled_prog = tc.run_compile_stage(circuit, fpga_config, qchip)"
   ]
  },
  {
   "cell_type": "code",
   "execution_count": null,
   "id": "c36733c6-63f4-4cac-b929-1a00a7be41de",
   "metadata": {},
   "outputs": [],
   "source": []
  }
 ],
 "metadata": {
  "kernelspec": {
   "display_name": "Python 3 (ipykernel)",
   "language": "python",
   "name": "python3"
  },
  "language_info": {
   "codemirror_mode": {
    "name": "ipython",
    "version": 3
   },
   "file_extension": ".py",
   "mimetype": "text/x-python",
   "name": "python",
   "nbconvert_exporter": "python",
   "pygments_lexer": "ipython3",
   "version": "3.11.4"
  }
 },
 "nbformat": 4,
 "nbformat_minor": 5
}
