{
 "cells": [
  {
   "cell_type": "markdown",
   "id": "020b974c",
   "metadata": {},
   "source": [
    "# Part 2: Hardware Demo\n",
    "## Outline\n",
    "1. RPC server and client  \n",
    "2. Signal generation  \n",
    "    2.1 Pulse generation  \n",
    "    2.2 Gate generation  \n",
    "    2.3 Circuit generation  \n",
    "3. Loopback test  \n",
    "4. Readout emulator and GMM fitting  \n",
    "5. Fast feedback - Active reset  "
   ]
  },
  {
   "cell_type": "markdown",
   "id": "9f0a04f2",
   "metadata": {},
   "source": [
    "## 1. RPC server and client"
   ]
  },
  {
   "cell_type": "markdown",
   "id": "fc2636bc",
   "metadata": {},
   "source": [
    "![infra.svg](./images/infra.svg)"
   ]
  },
  {
   "cell_type": "code",
   "execution_count": null,
   "id": "4dcf1f30",
   "metadata": {
    "scrolled": true
   },
   "outputs": [],
   "source": [
    "import qubic.toolchain as tc\n",
    "import qubic.rpc_client as rc\n",
    "import qubitconfig.qchip as qc\n",
    "from distproc.hwconfig import FPGAConfig, load_channel_configs\n",
    "import chipcalibration.config as cfg\n",
    "import numpy as np\n",
    "import matplotlib.pyplot as plt\n",
    "import qubic.state_disc as sd\n",
    "from chipcalibration import vna as vn\n",
    "import qubic.job_manager as jm"
   ]
  },
  {
   "cell_type": "markdown",
   "id": "2855f010",
   "metadata": {},
   "source": [
    "## 2. Signal generation\n",
    "### 2.1 Pulse generation"
   ]
  },
  {
   "cell_type": "markdown",
   "id": "bb68f374",
   "metadata": {},
   "source": [
    "![cirgen.svg](./images/cirgen.svg)"
   ]
  },
  {
   "cell_type": "markdown",
   "id": "0b0e928c",
   "metadata": {},
   "source": [
    "### Load configs and define circuit.\n",
    "Using the chipcalibration repository, load all three configs:  \n",
    "a. FPGA config: provides timing information for the scheduler  \n",
    "b. Channel configs: firmware channel mapping + configuration, see [Understanding Channel Configuration](https://gitlab.com/LBL-QubiC/software/-/wikis/Understanding-Channel-Configuration) for details  \n",
    "c. QChip object: contains calibrated gates + readout  "
   ]
  },
  {
   "cell_type": "code",
   "execution_count": null,
   "id": "39c97603",
   "metadata": {},
   "outputs": [],
   "source": [
    "fpga_config = FPGAConfig()\n",
    "channel_configs = load_channel_configs('channel_config.json')\n",
    "qchip = qc.QChip('qubitcfg.json')\n",
    "qchip.cfg_dict"
   ]
  },
  {
   "cell_type": "markdown",
   "id": "9e69abd3",
   "metadata": {},
   "source": [
    "Define a circuit at the pulse-level. For details on the QubiC circuit format and supported operations, see [compiler.py](https://gitlab.com/LBL-QubiC/distributed_processor/-/blob/master/python/distproc/compiler.py)."
   ]
  },
  {
   "cell_type": "code",
   "execution_count": null,
   "id": "c49bc1ef",
   "metadata": {},
   "outputs": [],
   "source": [
    "circuit_1 = [\n",
    "    \n",
    "    # play a pi pulse on Q3\n",
    "    {'name': 'pulse', 'phase': 0, 'freq': 400e6, 'amp': 0.99, 'twidth': 64e-9,\n",
    "     'env': {'env_func': 'cos_edge_square', 'paradict': {'ramp_fraction': 0.25}},\n",
    "     'dest': 'Q3.qdrv'},\n",
    "    \n",
    "    # play a pi/2 pulse on Q6\n",
    "    {'name': 'pulse', 'phase': 0, 'freq': 5.7e9, 'amp': 0.50, 'twidth': 32e-9,\n",
    "    'env': {'env_func': 'cos_edge_square', 'paradict': {'ramp_fraction': 0.25}},\n",
    "    'dest': 'Q6.qdrv'}\n",
    "\n",
    "]"
   ]
  },
  {
   "cell_type": "markdown",
   "id": "4eaeeeb3",
   "metadata": {},
   "source": [
    "### Compile and assemble.\n",
    "\n",
    "Compile the program. The output of the compile stage is a distributed processor assembly program, which consists of initialization / termination statements, as well as a list of scheduled pulses for each core."
   ]
  },
  {
   "cell_type": "code",
   "execution_count": null,
   "id": "c9867122",
   "metadata": {},
   "outputs": [],
   "source": [
    "compiled_prog = tc.run_compile_stage(circuit_1, fpga_config, qchip)\n",
    "compiled_prog.program"
   ]
  },
  {
   "cell_type": "markdown",
   "id": "f0581293",
   "metadata": {},
   "source": [
    "Run the assembler to convert the above program into machine code that we can load onto the FPGA."
   ]
  },
  {
   "cell_type": "code",
   "execution_count": null,
   "id": "f970c778",
   "metadata": {
    "scrolled": false
   },
   "outputs": [],
   "source": [
    "raw_asm = tc.run_assemble_stage(compiled_prog, channel_configs)"
   ]
  },
  {
   "cell_type": "markdown",
   "id": "657a52b9",
   "metadata": {},
   "source": [
    "### Connect to server and run circuit.\n",
    "\n",
    "Now that we have defined our circuit and compiled it to machine code, we can submit it to the ZCU216 and run it.\n",
    "\n",
    "Instantiate the runner client."
   ]
  },
  {
   "cell_type": "code",
   "execution_count": null,
   "id": "f12817ca",
   "metadata": {},
   "outputs": [],
   "source": [
    "runner = rc.CircuitRunnerClient(ip='', port=9096)"
   ]
  },
  {
   "cell_type": "markdown",
   "id": "1156a4bb",
   "metadata": {},
   "source": [
    "Submit the circuit to the server, and collect 1 shot. The runner will run the currently loaded program (or a batch of circuits) and acquire the results from acq buf or acc buf."
   ]
  },
  {
   "cell_type": "code",
   "execution_count": null,
   "id": "40a96f2a",
   "metadata": {
    "scrolled": true
   },
   "outputs": [],
   "source": [
    "acq_data = runner.load_and_run_acq(raw_asm, n_total_shots=1, acq_chans=['0','1'], trig_delay=0e-9)"
   ]
  },
  {
   "cell_type": "markdown",
   "id": "bc42e688",
   "metadata": {},
   "source": [
    "Observe the pulses through the acq buffer or on the oscilloscope."
   ]
  },
  {
   "cell_type": "code",
   "execution_count": null,
   "id": "89c377f4",
   "metadata": {
    "scrolled": false
   },
   "outputs": [],
   "source": [
    "%matplotlib notebook\n",
    "plt.xlabel('Time (s)')\n",
    "plt.ylabel('ADC Counts')\n",
    "plt.plot(np.arange(0,acq_data['1'].shape[1]*0.5e-9,0.5e-9)[10:], np.average(acq_data['1'],axis=0)[10:])"
   ]
  },
  {
   "cell_type": "markdown",
   "id": "7983a987",
   "metadata": {},
   "source": [
    "### 2.2 Gate generation\n",
    "Define a circuit with calibrated gates / parameters."
   ]
  },
  {
   "cell_type": "code",
   "execution_count": null,
   "id": "66235d6a",
   "metadata": {},
   "outputs": [],
   "source": [
    "circuit_2 = [\n",
    "    \n",
    "    # play a pi/2 pulse on Q3\n",
    "    {'name': 'X90', 'qubit': 'Q3', 'modi':{(0, 'amp'): 0.99, (0, 'freq'): 400e6}},\n",
    "    \n",
    "    # play two pi/2 pulses on Q3 and Q6 simultaneously\n",
    "    {'name': 'X90', 'qubit': 'Q3'},\n",
    "    {'name': 'X90', 'qubit': 'Q6'},\n",
    "    \n",
    "    # add delay\n",
    "    {'name': 'delay', 't': 200.e-9}, \n",
    "    \n",
    "    # play a CNOT gate on Q3 and Q6\n",
    "    {'name': 'CNOT', 'qubit': ['Q3','Q6']},\n",
    "    \n",
    "    # schedule barrier\n",
    "    {'name': 'barrier', 'qubit': ['Q3','Q6']},\n",
    "    \n",
    "    # play readout gates for measurement\n",
    "    {'name': 'read', 'qubit': 'Q3'},\n",
    "    {'name': 'read', 'qubit': 'Q6'}\n",
    "    \n",
    "]"
   ]
  },
  {
   "cell_type": "code",
   "execution_count": null,
   "id": "032bd793",
   "metadata": {
    "scrolled": true
   },
   "outputs": [],
   "source": [
    "compiled_prog = tc.run_compile_stage(circuit_2, fpga_config, qchip)\n",
    "raw_asm = tc.run_assemble_stage(compiled_prog, channel_configs)"
   ]
  },
  {
   "cell_type": "code",
   "execution_count": null,
   "id": "3d86ed8a",
   "metadata": {
    "scrolled": false
   },
   "outputs": [],
   "source": [
    "acq_data = runner.load_and_run_acq(raw_asm, n_total_shots=1, acq_chans=['0','1'], trig_delay=0e-9)\n",
    "plt.figure()\n",
    "plt.xlabel('Time (s)')\n",
    "plt.ylabel('ADC Counts')\n",
    "plt.plot(np.arange(0,acq_data['1'].shape[1]*0.5e-9,0.5e-9)[10:], np.average(acq_data['1'],axis=0)[10:])"
   ]
  },
  {
   "cell_type": "markdown",
   "id": "e7d5e56e",
   "metadata": {},
   "source": [
    "### 2.3 Circuit generation\n",
    "Now it is the time to create your own quantum circuit and capture it through the acq buffer."
   ]
  },
  {
   "cell_type": "code",
   "execution_count": null,
   "id": "37367a17",
   "metadata": {},
   "outputs": [],
   "source": [
    "circuit_3 = []"
   ]
  },
  {
   "cell_type": "code",
   "execution_count": null,
   "id": "71a66617",
   "metadata": {},
   "outputs": [],
   "source": [
    "compiled_prog = tc.run_compile_stage(circuit_3, fpga_config, qchip)\n",
    "raw_asm = tc.run_assemble_stage(compiled_prog, channel_configs)"
   ]
  },
  {
   "cell_type": "code",
   "execution_count": null,
   "id": "8e2458d1",
   "metadata": {
    "scrolled": false
   },
   "outputs": [],
   "source": [
    "acq_data = runner.load_and_run_acq(raw_asm, n_total_shots=1, acq_chans=['0','1'], trig_delay=0e-9)\n",
    "plt.figure()\n",
    "plt.xlabel('Time (s)')\n",
    "plt.ylabel('ADC Counts')\n",
    "plt.plot(np.arange(0,acq_data['1'].shape[1]*0.5e-9,0.5e-9)[10:], np.average(acq_data['1'],axis=0)[10:])"
   ]
  },
  {
   "cell_type": "markdown",
   "id": "c28dcd65",
   "metadata": {},
   "source": [
    "## 3. Loopback test\n",
    "Perform frequency sweeps while obtaining amplitude and phase responses in loopback mode, resembling the capabilities of a vector network analyzer (VNA). This dedicated tool is instrumental for conducting qubit readout spectroscopy. "
   ]
  },
  {
   "cell_type": "markdown",
   "id": "78c40f4c",
   "metadata": {},
   "source": [
    "![vna.svg](./images/vna.svg)"
   ]
  },
  {
   "cell_type": "code",
   "execution_count": null,
   "id": "31de4a4d",
   "metadata": {
    "scrolled": true
   },
   "outputs": [],
   "source": [
    "amp = 0.99\n",
    "freqs = np.linspace(1.0e9, 4.0e9, 100)\n",
    "nshots = 10\n",
    "vna = vn.Vna(amp, freqs, nshots)\n",
    "jobman = jm.JobManager(fpga_config, channel_configs, runner, qchip)\n",
    "vna.run_and_report(jobman)"
   ]
  },
  {
   "cell_type": "markdown",
   "id": "afe327b3",
   "metadata": {},
   "source": [
    "JobManager class is for compiling and executing circuits, which contains necessary config objects for compilation, runner for execution, and (optionally) GMMManager for state classification."
   ]
  },
  {
   "cell_type": "code",
   "execution_count": null,
   "id": "913406c8",
   "metadata": {
    "scrolled": false
   },
   "outputs": [],
   "source": [
    "fig, ax1 = plt.subplots()\n",
    "ax1.set_xlabel('Frequency (Hz)')\n",
    "ax1.set_ylabel('Amplitude (a.u.)', color='b')\n",
    "ax1.plot(vna.freqs, vna.results['amp'], color='b')\n",
    "ax1.tick_params(axis='y', labelcolor='b')\n",
    "ax2 = ax1.twinx()\n",
    "ax2.set_ylabel('Phase (rad)', color='r')\n",
    "ax2.plot(freqs, vna.results['phase'], color='r')\n",
    "ax2.tick_params(axis='y', labelcolor='r')"
   ]
  },
  {
   "cell_type": "markdown",
   "id": "f51313eb",
   "metadata": {},
   "source": [
    "## 4. Readout emulator and GMM fitting\n",
    "### Create a qubit readout emulator with RF components to mimic the quantum signal processing."
   ]
  },
  {
   "cell_type": "markdown",
   "id": "daa31ae5",
   "metadata": {},
   "source": [
    "![readout_emulator.svg](./images/readout_emulator.svg)"
   ]
  },
  {
   "cell_type": "code",
   "execution_count": null,
   "id": "9011408f",
   "metadata": {},
   "outputs": [],
   "source": [
    "fread=2.7568e9\n",
    "circuit_4 = [\n",
    "    {'name': 'read', 'qubit': 'Q3', \n",
    "     'modi':{(0, 'amp'): 0.99, (0, 'freq'): fread, (1, 'freq'): fread, (1, 'phase'): 0}}\n",
    "]"
   ]
  },
  {
   "cell_type": "code",
   "execution_count": null,
   "id": "2d992bbf",
   "metadata": {
    "scrolled": true
   },
   "outputs": [],
   "source": [
    "compiled_prog = tc.run_compile_stage(circuit_4, fpga_config, qchip)\n",
    "raw_asm = tc.run_assemble_stage(compiled_prog, channel_configs)\n",
    "s11 = runner.run_circuit_batch([raw_asm], 2000, delay_per_shot=0)"
   ]
  },
  {
   "cell_type": "markdown",
   "id": "f04d825a",
   "metadata": {},
   "source": [
    "A dictionary of downconverted + integrated complex (IQ) values is returned for each loaded channel. Here, we are using Q3, so we get back data for channel '3'."
   ]
  },
  {
   "cell_type": "code",
   "execution_count": null,
   "id": "bf3c7ca8",
   "metadata": {
    "scrolled": true
   },
   "outputs": [],
   "source": [
    "plt.figure()\n",
    "ax1 = plt.subplot(111)\n",
    "ax1.set_aspect('equal')\n",
    "plt.plot(s11['3'].real[0], s11['3'].imag[0], '.')\n",
    "lim = max(1.1*max(max(abs(s11['3'].real[0])), max(abs(s11['3'].imag[0]))), 0.1)\n",
    "ax1.set_xlim([-lim,lim])\n",
    "ax1.set_ylim([-lim,lim])\n",
    "ax1.set_xlabel('I (a.u.)')\n",
    "ax1.set_ylabel('Q (a.u.)')\n",
    "plt.grid()"
   ]
  },
  {
   "cell_type": "markdown",
   "id": "4f74359d",
   "metadata": {},
   "source": [
    "### Fit the two blobs with Gaussian Mixture Model (GMM)."
   ]
  },
  {
   "cell_type": "code",
   "execution_count": null,
   "id": "ef8c5d23",
   "metadata": {
    "scrolled": true
   },
   "outputs": [],
   "source": [
    "gmm_manager = sd.GMMManager(chanmap_or_chan_cfgs=channel_configs)\n",
    "gmm_manager.fit(s11)\n",
    "gmm_manager.gmm_dict['Q3'].gmmfit.means_"
   ]
  },
  {
   "cell_type": "markdown",
   "id": "edd90c95",
   "metadata": {},
   "source": [
    "### Rotate the blobs on the IQ plane to create a decision boundary along the Y-axis."
   ]
  },
  {
   "cell_type": "code",
   "execution_count": null,
   "id": "6b78f186",
   "metadata": {},
   "outputs": [],
   "source": [
    "angle = gmm_manager.get_threshold_angle('Q3')\n",
    "circuit_5 = [\n",
    "    {'name': 'read', 'qubit': 'Q3',\n",
    "     'modi':{(0, 'amp'): 0.99, (0, 'freq'): fread, (1, 'freq'): fread, (1, 'phase'): np.pi/2-angle}}\n",
    "]"
   ]
  },
  {
   "cell_type": "code",
   "execution_count": null,
   "id": "5c210157",
   "metadata": {
    "scrolled": false
   },
   "outputs": [],
   "source": [
    "compiled_prog = tc.run_compile_stage(circuit_5, fpga_config, qchip)\n",
    "raw_asm = tc.run_assemble_stage(compiled_prog, channel_configs)\n",
    "s11 = runner.run_circuit_batch([raw_asm], 2000, delay_per_shot=0)"
   ]
  },
  {
   "cell_type": "code",
   "execution_count": null,
   "id": "4ac9d120",
   "metadata": {
    "scrolled": false
   },
   "outputs": [],
   "source": [
    "gmm_manager = sd.GMMManager(chanmap_or_chan_cfgs=channel_configs)\n",
    "gmm_manager.fit(s11)\n",
    "plt.figure()\n",
    "ax1=plt.subplot(111)\n",
    "ax1.set_aspect('equal')\n",
    "plt.plot(s11['3'].real[0], s11['3'].imag[0], '.')\n",
    "lim=max(1.1*max(max(abs(s11['3'].real[0])),max(abs(s11['3'].imag[0]))),0.1)\n",
    "ax1.set_xlim([-lim,lim])\n",
    "ax1.set_ylim([-lim,lim])\n",
    "ax1.set_xlabel('I (a.u.)')\n",
    "ax1.set_ylabel('Q (a.u.)')\n",
    "plt.axvline(x=0, color='r')\n",
    "plt.grid()"
   ]
  },
  {
   "cell_type": "markdown",
   "id": "94ff042c",
   "metadata": {},
   "source": [
    "## 5. Fast feedback - Active reset\n",
    "Active reset is a fast feedback technique utilized to swiftly and efficiently restore a quantum system to a well-defined initial state, commonly the ground state. The method involves a single-shot measurement of the qubit state, followed by a conditional single-qubit gate operation. If the qubit is found in an excited state, this gate operation rotates it into the ground state.\n",
    "### Implement active reset circuit."
   ]
  },
  {
   "cell_type": "code",
   "execution_count": null,
   "id": "b0a4b39d",
   "metadata": {},
   "outputs": [],
   "source": [
    "cond_lhs = 1 if gmm_manager.gmm_dict['Q3'].gmmfit.means_[0][0]>0 else 0\n",
    "circuit_6 = [\n",
    "    {'name': 'X90', 'qubit': 'Q3', 'modi':{(0, 'amp'): 0.19, (0, 'freq'): 900e6}},\n",
    "    {'name': 'read', 'qubit': 'Q3', \n",
    "     'modi':{(0, 'amp'): 0.99, (0, 'freq'): fread, (1, 'freq'): fread, (1, 'phase'): np.pi/2-angle}},\n",
    "    {'name': 'branch_fproc', 'alu_cond': 'eq', 'cond_lhs': cond_lhs, 'func_id': 'Q3.meas', 'scope': 'Q3',\n",
    "                'true': [{'name': 'delay', 't': 200.e-9, 'qubit': 'Q3'},\n",
    "                         {'name': 'X90', 'qubit': 'Q3', 'modi':{(0, 'amp'): 0.99, (0, 'freq'): 900e6}}, \n",
    "                         {'name': 'X90', 'qubit': 'Q3', 'modi':{(0, 'amp'): 0.99, (0, 'freq'): 900e6}}], \n",
    "                'false': []},\n",
    "]"
   ]
  },
  {
   "cell_type": "markdown",
   "id": "196d0dba",
   "metadata": {},
   "source": [
    "### Perform single-shot measurement."
   ]
  },
  {
   "cell_type": "code",
   "execution_count": null,
   "id": "e1ef42a1",
   "metadata": {},
   "outputs": [],
   "source": [
    "compiled_prog = tc.run_compile_stage(circuit_6, fpga_config, qchip)\n",
    "raw_asm = tc.run_assemble_stage(compiled_prog, channel_configs)\n",
    "acq_data = runner.load_and_run_acq(raw_asm, n_total_shots=1, acq_chans=['0','1'], trig_delay=0e-9, return_acc=True)\n",
    "print(acq_data[1])\n",
    "gmm_manager.predict(acq_data[1])"
   ]
  },
  {
   "cell_type": "markdown",
   "id": "14f8860b",
   "metadata": {},
   "source": [
    "### Check the conditional gate operation through the acq buffer."
   ]
  },
  {
   "cell_type": "code",
   "execution_count": null,
   "id": "0297b83c",
   "metadata": {
    "scrolled": false
   },
   "outputs": [],
   "source": [
    "plt.figure()\n",
    "plt.xlabel('Time (s)')\n",
    "plt.ylabel('ADC Counts')\n",
    "plt.plot(np.arange(0,acq_data[0]['1'].shape[1]*0.5e-9,0.5e-9)[10:], np.average(acq_data[0]['1'],axis=0)[10:])"
   ]
  }
 ],
 "metadata": {
  "kernelspec": {
   "display_name": "Python 3 (ipykernel)",
   "language": "python",
   "name": "python3"
  },
  "language_info": {
   "codemirror_mode": {
    "name": "ipython",
    "version": 3
   },
   "file_extension": ".py",
   "mimetype": "text/x-python",
   "name": "python",
   "nbconvert_exporter": "python",
   "pygments_lexer": "ipython3",
   "version": "3.10.4"
  }
 },
 "nbformat": 4,
 "nbformat_minor": 5
}
