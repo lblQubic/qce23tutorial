{
 "cells": [
  {
   "cell_type": "markdown",
   "id": "020b974c",
   "metadata": {},
   "source": [
    "# Part 2: Hardware Demo\n",
    "## Outline\n",
    "1. RPC server and client  \n",
    "2. Signal generation and oscilloscope measurement  \n",
    "    2.1 Pulse generation  \n",
    "    2.2 Gate generation  \n",
    "    2.3 Circuit generation  \n",
    "3. Loopback test  \n",
    "4. Readout emulator and GMM fitting  \n",
    "5. Fast reset  "
   ]
  },
  {
   "cell_type": "code",
   "execution_count": 85,
   "id": "4dcf1f30",
   "metadata": {
    "scrolled": true
   },
   "outputs": [],
   "source": [
    "import qubic.toolchain as tc\n",
    "import qubic.rpc_client as rc\n",
    "import qubitconfig.qchip as qc\n",
    "from distproc.hwconfig import FPGAConfig, load_channel_configs\n",
    "import chipcalibration.config as cfg\n",
    "import numpy as np\n",
    "import matplotlib.pyplot as plt\n",
    "import qubic.run\n",
    "import qubic.state_disc as sd\n",
    "from chipcalibration import vna as vn\n",
    "import qubic.job_manager as jm"
   ]
  },
  {
   "cell_type": "markdown",
   "id": "2855f010",
   "metadata": {},
   "source": [
    "## 2. Signal generation and oscilloscope measurement\n",
    "### 2.1 Pulse generation\n",
    "### Load configs and define circuit\n",
    "Using the chipcalibration repository, load all three configs:  \n",
    "a. FPGA config: this has timing information for the scheduler  \n",
    "b. Channel configs: firmware channel mapping + configuration, see [Understanding Channel Configuration](https://gitlab.com/LBL-QubiC/software/-/wikis/Understanding-Channel-Configuration) for details  \n",
    "c. QChip object: contains calibrated gates + readout  "
   ]
  },
  {
   "cell_type": "markdown",
   "id": "d153cd95",
   "metadata": {},
   "source": []
  },
  {
   "cell_type": "code",
   "execution_count": 39,
   "id": "39c97603",
   "metadata": {},
   "outputs": [],
   "source": [
    "fpga_config = FPGAConfig(**{'fpga_clk_period': 2.e-9, 'alu_instr_clks': 5, \n",
    "                            'jump_cond_clks': 5, 'jump_fproc_clks': 5, \n",
    "                            'pulse_regwrite_clks': 3, 'pulse_load_clks': 4})\n",
    "channel_configs = load_channel_configs('channel_config.json')\n",
    "qchip = qc.QChip('qubitcfg.json')"
   ]
  },
  {
   "cell_type": "markdown",
   "id": "9e69abd3",
   "metadata": {},
   "source": [
    "Define a circuit at the pulse-level. For details on the QubiC circuit format and supported operations, see [compiler.py](https://gitlab.com/LBL-QubiC/distributed_processor/-/blob/master/python/distproc/compiler.py)."
   ]
  },
  {
   "cell_type": "code",
   "execution_count": 69,
   "id": "c49bc1ef",
   "metadata": {},
   "outputs": [],
   "source": [
    "circuit_1 = [\n",
    "    \n",
    "    # play a pi/2 pulse on Q3\n",
    "    {'name': 'pulse', 'phase': 0, 'freq': 2.7e9, 'amp': 0.99, 'twidth': 2.4e-08,\n",
    "     'env': {'env_func': 'cos_edge_square', 'paradict': {'ramp_fraction': 0.25}},\n",
    "     'dest': 'Q3.qdrv'},\n",
    "    \n",
    "    # play a pi pulse on Q6\n",
    "    {'name': 'pulse', 'phase': 0, 'freq': 700e6, 'amp': 0.50, 'twidth': 4.8e-08,\n",
    "    'env': {'env_func': 'cos_edge_square', 'paradict': {'ramp_fraction': 0.25}},\n",
    "    'dest': 'Q6.qdrv'}\n",
    "\n",
    "]"
   ]
  },
  {
   "cell_type": "markdown",
   "id": "4eaeeeb3",
   "metadata": {},
   "source": [
    "### Compile and assemble\n",
    "\n",
    "Compile the program. The output of the compile stage is a distributed processor assembly program, which consists of initialization / termination statements, as well as a list of scheduled pulses for each core."
   ]
  },
  {
   "cell_type": "code",
   "execution_count": 70,
   "id": "c9867122",
   "metadata": {},
   "outputs": [],
   "source": [
    "compiled_prog = tc.run_compile_stage(circuit_1, fpga_config, qchip)"
   ]
  },
  {
   "cell_type": "markdown",
   "id": "f0581293",
   "metadata": {},
   "source": [
    "Run the assembler to convert the above program into machine code that we can load onto the FPGA."
   ]
  },
  {
   "cell_type": "code",
   "execution_count": 71,
   "id": "f970c778",
   "metadata": {
    "scrolled": false
   },
   "outputs": [],
   "source": [
    "raw_asm = tc.run_assemble_stage(compiled_prog, channel_configs)"
   ]
  },
  {
   "cell_type": "markdown",
   "id": "657a52b9",
   "metadata": {},
   "source": [
    "### Connect to Server and Run Circuit\n",
    "\n",
    "Now that we've defined our circuit and compiled it to machine code, we can submit it to the ZCU216 and run it.\n",
    "\n",
    "Instantiate the runner client."
   ]
  },
  {
   "cell_type": "code",
   "execution_count": 16,
   "id": "f12817ca",
   "metadata": {},
   "outputs": [
    {
     "data": {
      "application/javascript": [
       "\n",
       "try {\n",
       "require(['notebook/js/codecell'], function(codecell) {\n",
       "  codecell.CodeCell.options_default.highlight_modes[\n",
       "      'magic_text/x-csrc'] = {'reg':[/^%%microblaze/]};\n",
       "  Jupyter.notebook.events.one('kernel_ready.Kernel', function(){\n",
       "      Jupyter.notebook.get_cells().map(function(cell){\n",
       "          if (cell.cell_type == 'code'){ cell.auto_highlight(); } }) ;\n",
       "  });\n",
       "});\n",
       "} catch (e) {};\n"
      ]
     },
     "metadata": {},
     "output_type": "display_data"
    },
    {
     "data": {
      "application/javascript": [
       "\n",
       "try {\n",
       "require(['notebook/js/codecell'], function(codecell) {\n",
       "  codecell.CodeCell.options_default.highlight_modes[\n",
       "      'magic_text/x-csrc'] = {'reg':[/^%%pybind11/]};\n",
       "  Jupyter.notebook.events.one('kernel_ready.Kernel', function(){\n",
       "      Jupyter.notebook.get_cells().map(function(cell){\n",
       "          if (cell.cell_type == 'code'){ cell.auto_highlight(); } }) ;\n",
       "  });\n",
       "});\n",
       "} catch (e) {};\n"
      ]
     },
     "metadata": {},
     "output_type": "display_data"
    },
    {
     "name": "stdout",
     "output_type": "stream",
     "text": [
      "mts: 0\n"
     ]
    }
   ],
   "source": [
    "runner = qubic.run.CircuitRunner(commit='f24f1615')\n",
    "#runner = rc.CircuitRunnerClient(ip='localhost', port=9096)"
   ]
  },
  {
   "cell_type": "markdown",
   "id": "1156a4bb",
   "metadata": {},
   "source": [
    "Submit the circuit to the server, and collect 1000 shots."
   ]
  },
  {
   "cell_type": "code",
   "execution_count": 72,
   "id": "9b60d49b",
   "metadata": {
    "scrolled": true
   },
   "outputs": [
    {
     "name": "stderr",
     "output_type": "stream",
     "text": [
      "100%|██████████| 1/1 [00:00<00:00,  6.83it/s]\n"
     ]
    }
   ],
   "source": [
    "s11 = runner.run_circuit_batch([raw_asm], 1000, delay_per_shot=0)"
   ]
  },
  {
   "cell_type": "markdown",
   "id": "c3b78e67",
   "metadata": {},
   "source": [
    "Observe the pulses on the oscilloscope or through the acq buffer."
   ]
  },
  {
   "cell_type": "code",
   "execution_count": 80,
   "id": "89c377f4",
   "metadata": {
    "scrolled": true
   },
   "outputs": [
    {
     "data": {
      "text/plain": [
       "[<matplotlib.lines.Line2D at 0xffff7a66d1b0>]"
      ]
     },
     "execution_count": 80,
     "metadata": {},
     "output_type": "execute_result"
    },
    {
     "data": {
      "image/png": "[encoded data removed]",
      "text/plain": [
       "<Figure size 432x288 with 1 Axes>"
      ]
     },
     "metadata": {
      "needs_background": "light"
     },
     "output_type": "display_data"
    }
   ],
   "source": [
    "acq_data = runner.load_and_run_acq(raw_asm, n_total_shots=1, acq_chans=['0','1'], trig_delay=0e-9)\n",
    "time_step=0.5e-9\n",
    "plt.plot(np.arange(0,acq_data['1'].shape[1]*time_step,time_step)[10:],np.average(acq_data['1'], axis=0)[10:])"
   ]
  },
  {
   "cell_type": "markdown",
   "id": "7983a987",
   "metadata": {},
   "source": [
    "### 2.2 Gate generation\n",
    "Define a circuit with calibrated gates / parameters."
   ]
  },
  {
   "cell_type": "code",
   "execution_count": 134,
   "id": "66235d6a",
   "metadata": {},
   "outputs": [],
   "source": [
    "circuit_2 = [\n",
    "    \n",
    "    # play two consecutive pi/2 pulses on Q3\n",
    "    {'name': 'X90', 'qubit': 'Q3'},\n",
    "    {'name': 'X90', 'qubit': 'Q3'},\n",
    "    \n",
    "    # schedule barrier\n",
    "    {'name': 'barrier', 'qubit': ['Q3','Q6']},\n",
    "    \n",
    "    # play two pi/2 pulses on Q3 and Q6 simultaneously\n",
    "    {'name': 'X90', 'qubit': 'Q3'},\n",
    "    {'name': 'X90', 'qubit': 'Q6'},   \n",
    "\n",
    "    # schedule barrier\n",
    "    {'name': 'barrier', 'qubit': ['Q3','Q6']},\n",
    "    \n",
    "    # play a CNOT gate on Q3 and Q6\n",
    "    {'name': 'CNOT', 'qubit': ['Q3','Q6']}\n",
    "    \n",
    "]"
   ]
  },
  {
   "cell_type": "code",
   "execution_count": 144,
   "id": "ee0b2c3c",
   "metadata": {
    "scrolled": false
   },
   "outputs": [
    {
     "name": "stderr",
     "output_type": "stream",
     "text": [
      "100%|██████████| 1/1 [00:00<00:00,  4.38it/s]\n"
     ]
    }
   ],
   "source": [
    "compiled_prog = tc.run_compile_stage(circuit_2, fpga_config, qchip)\n",
    "raw_asm = tc.run_assemble_stage(compiled_prog, channel_configs)\n",
    "s11 = runner.run_circuit_batch([raw_asm], 1000, delay_per_shot=0)"
   ]
  },
  {
   "cell_type": "code",
   "execution_count": 141,
   "id": "1fc8e2f9",
   "metadata": {
    "scrolled": false
   },
   "outputs": [
    {
     "data": {
      "text/plain": [
       "[<matplotlib.lines.Line2D at 0xffff693580d0>]"
      ]
     },
     "execution_count": 141,
     "metadata": {},
     "output_type": "execute_result"
    },
    {
     "data": {
      "image/png": "[encoded data removed]",
      "text/plain": [
       "<Figure size 432x288 with 1 Axes>"
      ]
     },
     "metadata": {
      "needs_background": "light"
     },
     "output_type": "display_data"
    }
   ],
   "source": [
    "acq_data = runner.load_and_run_acq(raw_asm, n_total_shots=1, acq_chans=['0','1'], trig_delay=0e-9)\n",
    "time_step=0.5e-9\n",
    "plt.plot(np.arange(0,acq_data['1'].shape[1]*time_step,time_step)[100:2000],np.average(acq_data['1'], axis=0)[100:2000])"
   ]
  },
  {
   "cell_type": "markdown",
   "id": "e7d5e56e",
   "metadata": {},
   "source": [
    "### 2.3 Circuit generation\n",
    "Define a quantum circuit."
   ]
  },
  {
   "cell_type": "code",
   "execution_count": 61,
   "id": "37367a17",
   "metadata": {},
   "outputs": [],
   "source": [
    "circuit_3 = [\n",
    "    \n",
    "    # allow qubit to decay to 0 state between shots\n",
    "    {'name': 'delay', 't': 500.e-9}, \n",
    "    \n",
    "    # set Q3 state to |1>\n",
    "    {'name': 'X90', 'qubit': 'Q3'},\n",
    "    {'name': 'X90', 'qubit': 'Q3'},\n",
    "    \n",
    "    # set Q6 to a state on the equator \n",
    "    {'name': 'X90', 'qubit': 'Q6'},\n",
    "    \n",
    "    # schedule barrier ensures that both readouts start after the pulses\n",
    "    {'name': 'barrier', 'qubit': ['Q3', 'Q6']},\n",
    "    \n",
    "    # play readout gates for measurement\n",
    "    {'name': 'read', 'qubit': 'Q3'},\n",
    "    {'name': 'read', 'qubit': 'Q6'}\n",
    "\n",
    "]"
   ]
  },
  {
   "cell_type": "code",
   "execution_count": 94,
   "id": "99f692d1",
   "metadata": {},
   "outputs": [
    {
     "name": "stderr",
     "output_type": "stream",
     "text": [
      "100%|██████████| 1/1 [00:00<00:00,  3.54it/s]\n"
     ]
    }
   ],
   "source": [
    "compiled_prog = tc.run_compile_stage(circuit_3, fpga_config, qchip)\n",
    "raw_asm = tc.run_assemble_stage(compiled_prog, channel_configs)\n",
    "s11 = runner.run_circuit_batch([raw_asm], 1000, delay_per_shot=0)"
   ]
  },
  {
   "cell_type": "code",
   "execution_count": 95,
   "id": "78fd4f3a",
   "metadata": {
    "scrolled": false
   },
   "outputs": [
    {
     "data": {
      "text/plain": [
       "[<matplotlib.lines.Line2D at 0xffff6be3e470>]"
      ]
     },
     "execution_count": 95,
     "metadata": {},
     "output_type": "execute_result"
    },
    {
     "data": {
      "image/png": "[encoded data removed]",
      "text/plain": [
       "<Figure size 432x288 with 1 Axes>"
      ]
     },
     "metadata": {
      "needs_background": "light"
     },
     "output_type": "display_data"
    }
   ],
   "source": [
    "acq_data = runner.load_and_run_acq(raw_asm, n_total_shots=1, acq_chans=['0','1'], trig_delay=0e-9)\n",
    "time_step=0.5e-9\n",
    "plt.plot(np.arange(0,acq_data['1'].shape[1]*time_step,time_step)[1000:2000],np.average(acq_data['1'], axis=0)[1000:2000])"
   ]
  },
  {
   "cell_type": "markdown",
   "id": "6c50aaa4",
   "metadata": {},
   "source": [
    "## 3. Loopback test\n",
    "Sweep readout frequency like a VNA."
   ]
  },
  {
   "cell_type": "code",
   "execution_count": 92,
   "id": "56048d91",
   "metadata": {
    "scrolled": false
   },
   "outputs": [
    {
     "name": "stderr",
     "output_type": "stream",
     "text": [
      "100%|██████████| 100/100 [00:01<00:00, 99.22it/s]\n"
     ]
    }
   ],
   "source": [
    "vna = vn.Vna(0.99, np.linspace(1.0e9, 7.0e9, 100), 10)\n",
    "jobman = jm.JobManager(fpga_config, channel_configs, runner, qchip)\n",
    "vna.run_and_report(jobman)"
   ]
  },
  {
   "cell_type": "code",
   "execution_count": 93,
   "id": "88b7540d",
   "metadata": {
    "scrolled": false
   },
   "outputs": [
    {
     "data": {
      "image/png": "[encoded data removed]",
      "text/plain": [
       "<Figure size 432x288 with 1 Axes>"
      ]
     },
     "metadata": {
      "needs_background": "light"
     },
     "output_type": "display_data"
    },
    {
     "data": {
      "image/png": "[encoded data removed]",
      "text/plain": [
       "<Figure size 432x288 with 1 Axes>"
      ]
     },
     "metadata": {
      "needs_background": "light"
     },
     "output_type": "display_data"
    }
   ],
   "source": [
    "plt.plot(vna.freqs, vna.results['amp'])\n",
    "plt.show()\n",
    "plt.plot(vna.freqs, vna.results['phase'])\n",
    "plt.show()"
   ]
  },
  {
   "cell_type": "markdown",
   "id": "5931f43a",
   "metadata": {},
   "source": [
    "## 4. Readout emulator and GMM fitting\n",
    "Create a qubit readout emulator."
   ]
  },
  {
   "cell_type": "code",
   "execution_count": 285,
   "id": "9011408f",
   "metadata": {},
   "outputs": [],
   "source": [
    "fread=2.7568e9\n",
    "circuit_4 = [\n",
    "    {'name': 'read', 'qubit': 'Q3', \n",
    "     'modi':{(0, 'amp'): 0.99, (0, 'freq'): fread, (1, 'freq'): fread, (1, 'phase'): 0}}\n",
    "]"
   ]
  },
  {
   "cell_type": "code",
   "execution_count": 286,
   "id": "1ee60ecd",
   "metadata": {
    "scrolled": true
   },
   "outputs": [
    {
     "name": "stderr",
     "output_type": "stream",
     "text": [
      "100%|██████████| 1/1 [00:00<00:00,  3.38it/s]\n"
     ]
    }
   ],
   "source": [
    "compiled_prog = tc.run_compile_stage(circuit_4, fpga_config, qchip)\n",
    "raw_asm = tc.run_assemble_stage(compiled_prog, channel_configs)\n",
    "s11 = runner.run_circuit_batch([raw_asm], 2000, delay_per_shot=0)"
   ]
  },
  {
   "cell_type": "markdown",
   "id": "f04d825a",
   "metadata": {},
   "source": [
    "A dictionary of downconverted + integrated complex (IQ) values is returned for each loaded channel. Here, we're using Q3, so we get back data for channel '3'."
   ]
  },
  {
   "cell_type": "code",
   "execution_count": 287,
   "id": "6f4bef6e",
   "metadata": {
    "scrolled": false
   },
   "outputs": [
    {
     "data": {
      "image/png": "[encoded data removed]",
      "text/plain": [
       "<Figure size 432x288 with 1 Axes>"
      ]
     },
     "metadata": {
      "needs_background": "light"
     },
     "output_type": "display_data"
    }
   ],
   "source": [
    "plt.figure()\n",
    "ax1=plt.subplot(111)\n",
    "ax1.set_aspect('equal')\n",
    "plt.plot(s11['3'].real[0], s11['3'].imag[0], '.')\n",
    "lim=max(1.1*max(max(abs(s11['3'].real[0])),max(abs(s11['3'].imag[0]))),0.1)\n",
    "ax1.set_xlim([-lim,lim])\n",
    "ax1.set_ylim([-lim,lim])\n",
    "plt.grid()"
   ]
  },
  {
   "cell_type": "markdown",
   "id": "1c8412b7",
   "metadata": {},
   "source": [
    "Fit the two blobs with GMM"
   ]
  },
  {
   "cell_type": "code",
   "execution_count": 288,
   "id": "73edc577",
   "metadata": {
    "scrolled": false
   },
   "outputs": [
    {
     "data": {
      "text/plain": [
       "array([[-972542.264,  233243.415],\n",
       "       [-880910.767, 1311333.576]])"
      ]
     },
     "execution_count": 288,
     "metadata": {},
     "output_type": "execute_result"
    }
   ],
   "source": [
    "gmm_manager = sd.GMMManager(chanmap_or_chan_cfgs=channel_configs)\n",
    "gmm_manager.fit(s11)\n",
    "gmm_manager.gmm_dict['Q3'].gmmfit.means_"
   ]
  },
  {
   "cell_type": "code",
   "execution_count": 289,
   "id": "1bb354e5",
   "metadata": {},
   "outputs": [],
   "source": [
    "angle = gmm_manager.get_threshold_angle('Q3')\n",
    "circuit_5 = [\n",
    "    {'name': 'read', 'qubit': 'Q3',\n",
    "     'modi':{(0, 'amp'): 0.99, (0, 'freq'): fread, (1, 'freq'): fread, (1, 'phase'): np.pi/2 - angle}}\n",
    "]"
   ]
  },
  {
   "cell_type": "code",
   "execution_count": 290,
   "id": "3d80c442",
   "metadata": {
    "scrolled": true
   },
   "outputs": [
    {
     "name": "stderr",
     "output_type": "stream",
     "text": [
      "100%|██████████| 1/1 [00:00<00:00,  3.39it/s]\n"
     ]
    }
   ],
   "source": [
    "compiled_prog = tc.run_compile_stage(circuit_5, fpga_config, qchip)\n",
    "raw_asm = tc.run_assemble_stage(compiled_prog, channel_configs)\n",
    "s11 = runner.run_circuit_batch([raw_asm], 2000, delay_per_shot=0)"
   ]
  },
  {
   "cell_type": "code",
   "execution_count": 291,
   "id": "5693a394",
   "metadata": {
    "scrolled": false
   },
   "outputs": [
    {
     "data": {
      "image/png": "[encoded data removed]",
      "text/plain": [
       "<Figure size 432x288 with 1 Axes>"
      ]
     },
     "metadata": {
      "needs_background": "light"
     },
     "output_type": "display_data"
    }
   ],
   "source": [
    "gmm_manager = sd.GMMManager(chanmap_or_chan_cfgs=channel_configs)\n",
    "gmm_manager.fit(s11)\n",
    "plt.figure()\n",
    "ax1=plt.subplot(111)\n",
    "ax1.set_aspect('equal')\n",
    "plt.plot(s11['3'].real[0], s11['3'].imag[0], '.')\n",
    "lim=max(1.1*max(max(abs(s11['3'].real[0])),max(abs(s11['3'].imag[0]))),0.1)\n",
    "ax1.set_xlim([-lim,lim])\n",
    "ax1.set_ylim([-lim,lim])\n",
    "plt.grid()"
   ]
  },
  {
   "cell_type": "markdown",
   "id": "773ac944",
   "metadata": {},
   "source": [
    "## 5. Fast reset"
   ]
  },
  {
   "cell_type": "code",
   "execution_count": 293,
   "id": "cc283e0f",
   "metadata": {},
   "outputs": [],
   "source": [
    "cond_lhs=1 if gmm_manager.gmm_dict['Q3'].gmmfit.means_[0][0]>0 else 0\n",
    "circuit_6 = [\n",
    "    {'name': 'X90', 'qubit': 'Q3'},\n",
    "    {'name': 'read', 'qubit': 'Q3', \n",
    "     'modi':{(0, 'amp'): 0.99, (0, 'freq'): fread, (1, 'freq'): fread, (1, 'phase'): np.pi/2 - angle}},\n",
    "    {'name': 'branch_fproc', 'alu_cond': 'eq', 'cond_lhs': cond_lhs, 'func_id': 3, 'scope': 'Q3',\n",
    "                'true': [{'name': 'delay', 't': 200.e-9, 'qubit': 'Q3'},\n",
    "                             {'name': 'X90', 'qubit': 'Q3', 'modi':{(0, 'amp'): 0.99, (0, 'freq'): 900e6}}, \n",
    "                             {'name': 'X90', 'qubit': 'Q3', 'modi':{(0, 'amp'): 0.99, (0, 'freq'): 900e6}}], \n",
    "                'false': []},\n",
    "]"
   ]
  },
  {
   "cell_type": "code",
   "execution_count": 306,
   "id": "34606270",
   "metadata": {
    "scrolled": false
   },
   "outputs": [
    {
     "name": "stderr",
     "output_type": "stream",
     "text": [
      "100%|██████████| 1/1 [00:00<00:00, 11.81it/s]\n"
     ]
    }
   ],
   "source": [
    "compiled_prog = tc.run_compile_stage(circuit_6, fpga_config, qchip)\n",
    "raw_asm = tc.run_assemble_stage(compiled_prog, channel_configs)\n",
    "s11 = runner.run_circuit_batch([raw_asm], 1, delay_per_shot=0)"
   ]
  },
  {
   "cell_type": "code",
   "execution_count": 307,
   "id": "c873a1bd",
   "metadata": {
    "scrolled": true
   },
   "outputs": [
    {
     "name": "stdout",
     "output_type": "stream",
     "text": [
      "{'3': array([[[388961.+1563633.j]]])}\n"
     ]
    },
    {
     "data": {
      "text/plain": [
       "{'Q3': array([[[1]]])}"
      ]
     },
     "execution_count": 307,
     "metadata": {},
     "output_type": "execute_result"
    }
   ],
   "source": [
    "print(s11)\n",
    "gmm_manager.predict(s11)"
   ]
  }
 ],
 "metadata": {
  "kernelspec": {
   "display_name": "Python 3 (ipykernel)",
   "language": "python",
   "name": "python3"
  },
  "language_info": {
   "codemirror_mode": {
    "name": "ipython",
    "version": 3
   },
   "file_extension": ".py",
   "mimetype": "text/x-python",
   "name": "python",
   "nbconvert_exporter": "python",
   "pygments_lexer": "ipython3",
   "version": "3.10.4"
  }
 },
 "nbformat": 4,
 "nbformat_minor": 5
}
