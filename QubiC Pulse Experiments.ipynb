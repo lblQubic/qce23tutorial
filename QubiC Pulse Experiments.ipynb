{
 "cells": [
  {
   "cell_type": "markdown",
   "id": "eecaa06e",
   "metadata": {},
   "source": [
    "Pulse-based Experiments with QubiC\n",
    "==============================\n",
    "\n",
    "Prerequisites: this tutorial assumes that the QubiC [software](https://gitlab.com/LBL-QubiC/software) and [distributed processor](https://gitlab.com/LBL-QubiC/distributed_processor) have been installed (branch ``rfsoc`` if installing from the source repo).\n",
    "Additionally, ``numpy`` and ``bqplot`` are required for displaying simulated DAC output.\n",
    "\n",
    "---\n",
    "**NOTE**\n",
    "\n",
    "The simple characterization experiments described here are all available as pre-defined, highly optimized, routines in QubiC.\n",
    "The step-by-step approach used is for educational purposes only.\n",
    "For actual work, [these pre-defined routines](https://gitlab.com/LBL-QubiC/experiments/chipcalibration/-/tree/rfsoc/chipcalibration?ref_type=heads) should be used.\n",
    "---"
   ]
  },
  {
   "cell_type": "code",
   "execution_count": 1,
   "id": "e7122abd",
   "metadata": {},
   "outputs": [],
   "source": [
    "%load_ext autoreload\n",
    "%autoreload 2"
   ]
  },
  {
   "cell_type": "markdown",
   "id": "6a59707c",
   "metadata": {},
   "source": [
    "Introduction\n",
    "---------------\n",
    "\n",
    "QubiC is capable of playing arbitrary pulses for qubit drive and readout, allowing you to get the most out of your quantum hardware by controlling the precise timing and dynamics.\n",
    "It comes with APIs that give you full control, but resource efficiency is key to scaling and quick experiment turnaround.\n",
    "The goal of this notebook is therefore to show how to efficiently construct a pulse-based experiment in QubiC.\n",
    "\n",
    "### Pulse Nomenclature\n",
    "\n",
    "<table style=\"padding: 0px\"><tr></tr><tr>\n",
    "<td style=\"width: 50%; padding: 0px\">\n",
    "<div align=\"left\" style=\"text-align: left; font-size: 120%\">\n",
    "<p>A <i>pulse</i> is series of output voltages at specific time stamps.\n",
    "It is constructed by first defining a pulse <i>envelope</i> at regular steps called <i>samples</i>.\n",
    "For example, an envelope could take the form of a Gaussian shape, with at each sample the value corresponding to a Gaussian function.\n",
    "Samples become time stamps by specifying to QubiC the <i>sample rate</i> and <i>interpolation ratio</i> to get the number of samples played per second.</p>\n",
    "<p>The qubit oscillates, however, so to ensure that it actually \"sees\" the envelope as intended, the signal needs to be modulated with a <i>carrier signal</i> to transform in from the laboratory frame of reference into the qubit one.\n",
    "Finally, the scale of the pulse is determined by specifying a pulse <i>amplitude</i>.</p>\n",
    "</div></td>\n",
    "<td style=\"width: 50%\">\n",
    "  <img src='./images/Illustration_of_Amplitude_Modulation.png'>\n",
    "</td>\n",
    "</tr>\n",
    "<tr></tr><tr><td></td>\n",
    "<td><div style=\"font-size: 70%\">Source: Wikipedia</div></td>\n",
    "</table>\n",
    "A pulse envelope can be constructed directly and provided to QubiC in the form of a <span style=\"font-family:monospace\">numpy</span> array, exactly specifying the output value for each sample.\n",
    "However, it is much more efficient to provide parametrizations of pre-defined envelopes, such as those from QubiC's <i>pulse library</i> of commonly used ones.\n",
    "Such a parametrized envelope can be reused, e.g. different qubits can share the same envelope shape but different carrier frequencies and amplitudes, thus reducing the overall memory requirements of the system, which is essential to achieve scale.\n",
    "\n",
    "### Pulse Scheduling\n",
    "\n",
    "QubiC allows you to specify precisely when to start playing a pulse, using a start time counting from the beginning of the experiment.\n",
    "It uses human-readable, symbolic labels to specify the channel on which the pulse should be played.\n",
    "For example, \"Q1.qdrv\" refers to the qubit drive channel of qubit 1.\n",
    "A separate <a href=\"https://gitlab.com/LBL-QubiC/software/-/wikis/Understanding-Channel-Configuration\"><span style=\"font-family:monospace\">channel_config.json</span></a> file then tells the system to which actual hardware channel this corresponds.\n",
    "This approach makes pulse programs simpler to understand and keeps them portable.\n",
    "\n",
    "The pulse start times are typically determined by pragmatic constraints, e.g. a different pulse on another qubit finishing first to reduce cross-talk.\n",
    "Since the qubit oscillates around the Z-axis, however, such timing in the laboratory frame translates into a phase in the qubit frame of reference.\n",
    "Thus, to have full control over the timing in the qubit frame, QubiC allows you to specify the <i>phase</i> of the carrier signal for the pulse at each place of use in the experiment."
   ]
  },
  {
   "cell_type": "markdown",
   "id": "05f63e41",
   "metadata": {},
   "source": [
    "### Standard Tooling\n",
    "\n",
    "The following set of python modules are necessary for running QubiC.\n",
    "If importing is successful, your system is all setup!"
   ]
  },
  {
   "cell_type": "code",
   "execution_count": 2,
   "id": "b48b2085",
   "metadata": {},
   "outputs": [],
   "source": [
    "# standard QubiC modules\n",
    "import qubic.toolchain as tc\n",
    "import qubic.rpc_client as rc\n",
    "import qubitconfig.qchip as qc\n",
    "from distproc.hwconfig import FPGAConfig, load_channel_configs\n",
    "\n",
    "# useful Python modules\n",
    "import numpy as np\n",
    "import bqplot as plt"
   ]
  },
  {
   "cell_type": "markdown",
   "id": "89b858bb",
   "metadata": {},
   "source": [
    "Next, we load the necessary configurations, both the hardware setup and qubit calibration data.\n",
    "These files are included alongside this tutorial and should be tuned to match your actual QubiC setup."
   ]
  },
  {
   "cell_type": "code",
   "execution_count": 3,
   "id": "2cc08ee0",
   "metadata": {},
   "outputs": [],
   "source": [
    "# FPGA timing information for the scheduler\n",
    "fpga_config = FPGAConfig(**{'fpga_clk_period': 2.e-9, \n",
    "                            'alu_instr_clks': 5, \n",
    "                            'jump_cond_clks': 5, \n",
    "                            'jump_fproc_clks': 5, \n",
    "                            'pulse_regwrite_clks': 3})\n",
    "\n",
    "# mapping of programmatic labels to actual channels\n",
    "channel_configs = load_channel_configs('channel_config.json')\n",
    "\n",
    "# gate definitions and qubit calibration data\n",
    "qchip = qc.QChip('qubitcfg.json')"
   ]
  },
  {
   "cell_type": "markdown",
   "id": "def9d21f",
   "metadata": {},
   "source": [
    "### Of Pulses and Circuits\n",
    "\n",
    "QubiC provides APIs at several different levels, from the abstract to the low-level.\n",
    "The highest, circuit, level makes it a breeze to work with calibrated pulses and is also very human-readable.\n",
    "It provides operations for scheduling (delays) and synchronizatin (barriers)\n",
    "The circuit level is transformed to the compiled level, by taking the information from the configuration files we loaded above.\n",
    "The result, the compiled level, is very programmable and particularly useful if e.g. the pulses you design come from a different software stack, especially if that software already provides its own scheduling as at this level, time is absolute from a fixed start point.\n",
    "Finally, the compiled level gets assembled: the actual memory to copy over to the FPGA and the command words for QubiC to execute.\n",
    "This is particularly of use if you are interested in development of QubiC itself.\n",
    "\n",
    "In all cases, the pulse descriptions are Python dictionaries with conventional labels as keys to the parameters of the pulse. Below are some annotated examples at the highest level."
   ]
  },
  {
   "cell_type": "code",
   "execution_count": 4,
   "id": "68109ea1",
   "metadata": {},
   "outputs": [],
   "source": [
    "# This is the highest level description and refers to a calibrated\n",
    "# pulse in the \"qubitcfg.json\" file. Specifically, \"X90Q1\" under\n",
    "# the \"Gates\" section: a pi/2 pulse played on qubit 1.\n",
    "X90_Q1 = {'name': 'X90',     # label of the gate referenced\n",
    "          'qubit': 'Q1'      # the qubit that it applies to\n",
    "}\n",
    "\n",
    "# This is the same pulse as above, but rather than looking up all\n",
    "# entries in \"qubitcfg.json\", they are explicitly listed here. This\n",
    "# way, these entries can be programmatically updated in Python.\n",
    "X90_Q1 = {'name': 'pulse',                     # generic pulse\n",
    "          'phase': 0,                          # phase starts at 0\n",
    "          'freq': 4675138775,                  # carrier frequence in Hz\n",
    "          'amp': 0.48150320341813146,          # amplitude applied to envelope\n",
    "          'twidth': 2.4e-08,                   # duration in seconds\n",
    "          'env': {                             # the pulse envelope\n",
    "              'env_func': 'cos_edge_square',   # function describing the envelope\n",
    "              'paradict': {                    # parameters input to env_func\n",
    "                  'ramp_fraction': 0.25        # fraction of the square to be\n",
    "              }                                #  smoothed by the cosine\n",
    "          },\n",
    "          'dest': 'Q1.qdrv'                    # channel to play the pulse on, here\n",
    "                                               #  the drive of qubit 1\n",
    "}\n"
   ]
  },
  {
   "cell_type": "markdown",
   "id": "f6bd950e",
   "metadata": {},
   "source": [
    "A QubiC circuit, or program, is a collection of pulses (drive and readout) and (optional) scheduling operations. Below is an example of a program: a bit flip on qubit 1, followed by a measurement."
   ]
  },
  {
   "cell_type": "code",
   "execution_count": 5,
   "id": "7cf74a44",
   "metadata": {},
   "outputs": [],
   "source": [
    "# A delay parameter, the purpose of which will be explained later\n",
    "param_delay = {'name': 'delay', 't': 100.e-9}\n",
    "\n",
    "circuit = [\n",
    "    # Passive reset (this assumes the qubit T1 is roughy 100us.\n",
    "    {'name': 'delay', 't': 500.e-6}, \n",
    "    \n",
    "    # Our X90 pulse on Q1, defined above.\n",
    "    X90_Q1,\n",
    "    \n",
    "    # Another X90, to achieve an X180, ie. a bit flip.\n",
    "    X90_Q1,\n",
    "    \n",
    "    # An additional delay (see below)\n",
    "    param_delay,\n",
    "    \n",
    "    # A measurement of Q1, defined qubitcfg.json, just like the above\n",
    "    # X90 was.\n",
    "    {'name': 'read', 'qubit': 'Q1'},\n",
    "]"
   ]
  },
  {
   "cell_type": "markdown",
   "id": "179927c9",
   "metadata": {},
   "source": [
    "Next, compile and assemble the circuit, for details, see the [Hardware Demo](Hardware Demo Part 2.ipynb) tutorial.\n",
    "The assembled program can now be send to QubiC and run.\n",
    "For the purposes of this tutorial, however, we will run a simulator instead: the simulator connects to a server and returns the waveform output as played by QubiC (i.e. how it would look on an oscilloscope), which we can then inspect."
   ]
  },
  {
   "cell_type": "code",
   "execution_count": 6,
   "id": "1007d9ca",
   "metadata": {},
   "outputs": [],
   "source": [
    "import simulation"
   ]
  },
  {
   "cell_type": "code",
   "execution_count": 7,
   "id": "de478fd2",
   "metadata": {},
   "outputs": [],
   "source": [
    "simulator = simulation.SimClient()"
   ]
  },
  {
   "cell_type": "code",
   "execution_count": 8,
   "id": "c1f76831",
   "metadata": {},
   "outputs": [],
   "source": [
    "def simulate(circuit, sim_time=None):\n",
    "    # compile and assemble circuit\n",
    "    circuit_compiled  = tc.run_compile_stage(circuit, fpga_config, qchip)\n",
    "    circuit_assembled = tc.run_assemble_stage(circuit_compiled, channel_configs)\n",
    "\n",
    "    # use the compiled circuit here for the in-process simulator; use the\n",
    "    # assembled circuit for the real thing\n",
    "    circuit = circuit_compiled\n",
    "    if not hasattr(simulator, 'fake'):\n",
    "        circuit = circuit_assembled\n",
    "        if sim_time is None:\n",
    "            sim_time = 1E-6\n",
    "\n",
    "    dacout, readout_start = simulator.run_program(circuit, sim_time)\n",
    "\n",
    "    return dacout, readout_start\n",
    "\n",
    "def plot_dac(sim_result, qubit=0, lower=None, upper=None, down_sample=3):\n",
    "    dac_out = sim_result[0][qubit]\n",
    "    cut = lower is not None or upper is not None\n",
    "    if lower is None:\n",
    "        lower = 0\n",
    "    if upper is None:\n",
    "        upper = sim_result[1]+3000\n",
    "    \n",
    "    if cut:\n",
    "        dac_out = dac_out[lower:upper]\n",
    "    \n",
    "    if down_sample:\n",
    "        ddac_out = dac_out[::down_sample]\n",
    "\n",
    "    x_sc = plt.LinearScale()\n",
    "    y_sc = plt.LinearScale()\n",
    "\n",
    "    ax_x = plt.Axis(scale=x_sc)\n",
    "    ax_y = plt.Axis(scale=y_sc, orientation=\"vertical\")\n",
    "\n",
    "    x_data = np.arange(lower, upper)\n",
    "    y_data = dac_out\n",
    "    scatter = plt.Lines(\n",
    "        x=x_data,\n",
    "        y=y_data,\n",
    "        scales={\"x\": x_sc, \"y\": y_sc},\n",
    "    )\n",
    "\n",
    "    fig = plt.Figure(axes=[ax_x, ax_y], marks=[scatter])\n",
    "    fig.interaction = plt.PanZoom(scales={\"x\": [x_sc]})#, \"y\": [y_sc]})\n",
    "\n",
    "    return fig"
   ]
  },
  {
   "cell_type": "code",
   "execution_count": 9,
   "id": "09c2045d",
   "metadata": {},
   "outputs": [],
   "source": [
    "sim_result = simulate(circuit)"
   ]
  },
  {
   "cell_type": "code",
   "execution_count": 10,
   "id": "885cec2a",
   "metadata": {},
   "outputs": [
    {
     "data": {
      "application/vnd.jupyter.widget-view+json": {
       "model_id": "e0de6a090eb945a58ef6324bacceec09",
       "version_major": 2,
       "version_minor": 0
      },
      "text/plain": [
       "Figure(axes=[Axis(scale=LinearScale()), Axis(orientation='vertical', scale=LinearScale())], fig_margin={'top':…"
      ]
     },
     "execution_count": 10,
     "metadata": {},
     "output_type": "execute_result"
    }
   ],
   "source": [
    "fig = plot_dac(sim_result, qubit=1)\n",
    "fig"
   ]
  },
  {
   "cell_type": "code",
   "execution_count": null,
   "id": "8073ec2b",
   "metadata": {},
   "outputs": [],
   "source": []
  },
  {
   "cell_type": "markdown",
   "id": "e8f53f74",
   "metadata": {},
   "source": [
    "### Customizing Pulses\n",
    "\n"
   ]
  },
  {
   "cell_type": "code",
   "execution_count": null,
   "id": "8eee7495",
   "metadata": {},
   "outputs": [],
   "source": []
  },
  {
   "cell_type": "markdown",
   "id": "d35908a8",
   "metadata": {},
   "source": [
    "### T1 Experiment\n",
    "\n",
    "<table style=\"padding: 0px\"><tr></tr><tr>\n",
    "<td style=\"width: 50%; padding: 0px\">\n",
    "<div align=\"left\" style=\"text-align: left; font-size: 120%\">\n",
    "<p>A <a href=\"https://qiskit.org/ecosystem/experiments/manuals/characterization/t1.html\">T1 experiment</a> consists of placing the qubit in the excited, ie. |1>, state followed by a measurement after some delay.\n",
    "As the delay increases, the number of shots where the qubit will have decayed to the ground, ie. |0>, state increases.\n",
    "By plotting the ratio of shots with a measurment of the qubit in the excited vs. ground state as a function of the delay, an exponential curve results, which can be fitted to obtain the decay parameter T1 (see figure on the right).</p>\n",
    "<p>To set this experiment up, we use a series of circuits, each with a different delay before measuring.\n",
    "If you scroll back up to our first circuit, you should now recognize it as a single step in a series for the T1 measurments.\n",
    "The first delay is a passive reset, putting the qubit in the |0> state.\n",
    "Then follow two X90 gates, ie. an X180, putting the qubit in the |1> state.\n",
    "Next is a parametrized delay and finally, there is a readout.\n",
    "All that remains is to put the circuit creation in a loop, adjusting the parametrized delay at each step.</p>\n",
    "</div></td>\n",
    "<td style=\"width: 50%\">\n",
    "  <img src='./images/T1.png' width=300>\n",
    "</td>\n",
    "</tr>\n",
    "</table>"
   ]
  },
  {
   "cell_type": "code",
   "execution_count": 11,
   "id": "76ffa5db",
   "metadata": {},
   "outputs": [],
   "source": [
    "import copy"
   ]
  },
  {
   "cell_type": "code",
   "execution_count": 12,
   "id": "1555be1a",
   "metadata": {},
   "outputs": [],
   "source": [
    "start_delay = 500E-9\n",
    "delay_step  = 500E-9\n",
    "n_steps = 20"
   ]
  },
  {
   "cell_type": "code",
   "execution_count": 13,
   "id": "431efcfb",
   "metadata": {},
   "outputs": [],
   "source": [
    "# note: rerun the cell defining the initial circuit if necessary\n",
    "\n",
    "t1_circuits = list()\n",
    "for istep in range(n_steps):\n",
    "    param_delay['t1'] = start_delay + istep*delay_step\n",
    "    t1_circuits.append(copy.deepcopy(circuit))"
   ]
  },
  {
   "cell_type": "code",
   "execution_count": null,
   "id": "aaa58917",
   "metadata": {},
   "outputs": [],
   "source": []
  }
 ],
 "metadata": {
  "kernelspec": {
   "display_name": "Python 3 (ipykernel)",
   "language": "python",
   "name": "python3"
  },
  "language_info": {
   "codemirror_mode": {
    "name": "ipython",
    "version": 3
   },
   "file_extension": ".py",
   "mimetype": "text/x-python",
   "name": "python",
   "nbconvert_exporter": "python",
   "pygments_lexer": "ipython3",
   "version": "3.10.12"
  }
 },
 "nbformat": 4,
 "nbformat_minor": 5
}
