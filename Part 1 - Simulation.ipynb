{
 "cells": [
  {
   "cell_type": "code",
   "execution_count": null,
   "id": "a2c33014",
   "metadata": {
    "tags": [
     "1"
    ]
   },
   "outputs": [],
   "source": [
    "# QubiC toolchain for compiling circuits\n",
    "import qubic.toolchain as tc\n",
    "\n",
    "# QubiC configuration management libraries\n",
    "import qubitconfig.qchip as qc\n",
    "from distproc.hwconfig import FPGAConfig, load_channel_configs\n",
    "\n",
    "# other packages\n",
    "import numpy as np\n",
    "import bqplot as plt"
   ]
  },
  {
   "cell_type": "markdown",
   "id": "c08355ae-a41e-43b1-8f5d-c598a297da59",
   "metadata": {},
   "source": [
    "# Outline\n",
    "1. Play a simple pulse:\n",
    "   - introduction to QubiC pulse programming\n",
    "   - overview of QubiC compiler tools\n",
    "   - connect to simulator and view simulated outputs\n",
    "2. Multiple pulses + timing constraints: delay and barrier\n",
    "3. Gates\n",
    "4. Overview of Readout Signal Chain\n",
    "   - play pulses on multiplexed readout drive\n",
    "   - readout demodulation + integration\n",
    "5. Mid-circuit measurement based feedforward\n",
    "6. Loops, variabls, and ALU operations"
   ]
  },
  {
   "cell_type": "markdown",
   "id": "39d6f5fe-600e-4ae4-82f0-6e3dc18f0866",
   "metadata": {
    "tags": []
   },
   "source": [
    "# Hardware (and Simulator) Channel Configuration\n",
    "\n",
    "QubiC 2.0 uses the [distributed processor](https://gitlab.com/LBL-QubiC/distributed_processor) for configuring and triggering pulses. In the current implementation, each processor core is connected to three process element (signal generator) channels in the firmware: **qubit drive, readout drive, and readout demodulation**:\n",
    "![image](images/single_core_config.png)\n",
    "\n",
    "Each drive channel connects to its own DAC, while the readout drive (demod) are multiplexed to a single DAC (ADC). So the full architecture looks like this:\n",
    "![image](images/channel_diagram.drawio.svg)\n",
    "\n",
    "**NOTE**: We don't have physical DACs for this part of the tutorial, so simulated DAC drive channels are indexed by `core_ind`; i.e. `core_0, elem_0 --> dac_out[0]`, `core_1, elem_0 --> dac_out[1]`, etc."
   ]
  },
  {
   "cell_type": "markdown",
   "id": "82c658bb-c62d-4c80-890c-50acbe2bf8b0",
   "metadata": {
    "tags": []
   },
   "source": [
    "# Pulse Nomenclature\n",
    "\n",
    "<table style=\"padding: 0px\"><tr></tr><tr>\n",
    "<td style=\"width: 50%; padding: 0px\">\n",
    "<div align=\"left\" style=\"text-align: left; font-size: 120%\">\n",
    "<p>A <i>pulse</i> is series of output voltages at specific time stamps.\n",
    "It is constructed by first defining a pulse <i>envelope</i> at regular steps called <i>samples</i>.\n",
    "For example, an envelope could take the form of a Gaussian shape, with at each sample the value corresponding to a Gaussian function.\n",
    "Samples become time stamps by specifying to QubiC the <i>sample rate</i> and <i>interpolation ratio</i> to get the number of samples played per second.</p>\n",
    "<p>The qubit oscillates, however, so to ensure that it actually \"sees\" the envelope as intended, the signal needs to be modulated with a <i>carrier signal</i> to transform in from the laboratory frame of reference into the qubit one.\n",
    "Finally, the scale of the pulse is determined by specifying a pulse <i>amplitude</i>.</p>\n",
    "</div></td>\n",
    "<td style=\"width: 50%\">\n",
    "  <img src='./images/Illustration_of_Amplitude_Modulation.png'>\n",
    "</td>\n",
    "</tr>\n",
    "<tr></tr><tr><td></td>\n",
    "<td><div style=\"font-size: 70%\">Source: Wikipedia</div></td>\n",
    "</table>\n",
    "A pulse envelope can be constructed directly and provided to QubiC in the form of a <span style=\"font-family:monospace\">numpy</span> array, exactly specifying the output value for each sample.\n",
    "However, it is much more efficient to provide parametrizations of pre-defined envelopes, such as those from QubiC's <i>pulse library</i> of commonly used ones.\n",
    "Such a parametrized envelope can be reused, e.g. different qubits can share the same envelope shape but different carrier frequencies and amplitudes, thus reducing the overall memory requirements of the system, which is essential to achieve scale.\n"
   ]
  },
  {
   "cell_type": "markdown",
   "id": "fb8b121e",
   "metadata": {},
   "source": [
    "# Play a simple pulse\n",
    "\n",
    "## Load configuration information"
   ]
  },
  {
   "cell_type": "markdown",
   "id": "1e68f6d1",
   "metadata": {},
   "source": [
    "1) define FPGA config; this has **timing information** for the scheduler as well as **function processor** (FPROC) **channel information**. This config only changes with the **gateware**; for the current version it is fine to use the following default config:"
   ]
  },
  {
   "cell_type": "code",
   "execution_count": null,
   "id": "66196869",
   "metadata": {
    "tags": []
   },
   "outputs": [],
   "source": [
    "fpga_config = FPGAConfig()"
   ]
  },
  {
   "cell_type": "markdown",
   "id": "482dbaba",
   "metadata": {},
   "source": [
    "2. load channel configs, which assign **named output channels** to **core** and **elem** indices and configure signal generator parameters. These **core + elem indices correspond to physical output channels** (or readout downconversion channels); see the channel map diagram above, or [Understanding Channel Configuration](https://gitlab.com/LBL-QubiC/software/-/wikis/Understanding-Channel-Configuration) for more details. This configuration only changes with **gateware** and **physical wiring**.\n"
   ]
  },
  {
   "cell_type": "code",
   "execution_count": null,
   "id": "7f604cfd",
   "metadata": {
    "tags": []
   },
   "outputs": [],
   "source": [
    "channel_configs = load_channel_configs('channel_config.json')"
   ]
  },
  {
   "cell_type": "markdown",
   "id": "0bff8a3b-889d-491b-bf13-402c8fe7a2ab",
   "metadata": {},
   "source": [
    "example channel config for named output 'Q0.qdrv' (qubit drive channel for physical qubit 'Q0'): \n",
    "\n",
    "```json\n",
    "\"Q0.qdrv\":{\n",
    "        \"core_ind\": 7,\n",
    "        \"elem_ind\": 0,\n",
    "        \"elem_params\":{\n",
    "            \"samples_per_clk\": 16,\n",
    "            \"interp_ratio\": 1\n",
    "        },\n",
    "        \"env_mem_name\": \"qdrvenv{core_ind}\",\n",
    "        \"freq_mem_name\": \"qdrvfreq{core_ind}\",\n",
    "        \"acc_mem_name\": \"accbuf{core_ind}\"\n",
    "}\n",
    "```\n",
    "\n",
    "The physical output channel is given by `core_ind` and `elem_ind`, while signal generator params are given by `elem_params`. Note that `elem_params` for a given signal generator are fixed and can only be changed by modifying the gateware."
   ]
  },
  {
   "cell_type": "markdown",
   "id": "8ee90e88",
   "metadata": {},
   "source": [
    "## Define the pulse sequence"
   ]
  },
  {
   "cell_type": "markdown",
   "id": "9d4f76de-c8c7-49e9-90a7-c7533126f790",
   "metadata": {},
   "source": [
    "A QubiC circuit (or \"program\") is represented as a **list of dictionaries**. Each dictionary is a **pulse command, program statement, or timing construct**"
   ]
  },
  {
   "cell_type": "code",
   "execution_count": null,
   "id": "3b43636e",
   "metadata": {
    "tags": []
   },
   "outputs": [],
   "source": [
    "circuit = [\n",
    "    #play a single pulse on the Q0 drive channel\n",
    "    {'name': 'pulse', 'phase': 0, 'freq': 4944383311, 'amp': 0.334704954261188, 'twidth': 2.4e-08,\n",
    "     'env': {'env_func': 'cos_edge_square', 'paradict': {'ramp_fraction': 0.25}},\n",
    "     'dest': 'Q0.qdrv'}, \n",
    "    \n",
    "]"
   ]
  },
  {
   "cell_type": "markdown",
   "id": "21258b1d-e2ee-4be6-bf04-6b92ffaa2b13",
   "metadata": {},
   "source": [
    "The pulse-dictionary above includes both parameters for the carrier signal (**phase, freq, and amp**), as well as a reference to a function that provides the **envelope** used for **amplitude modulation**. See [qubitconfig.envelope_pulse](https://gitlab.com/LBL-QubiC/experiments/qubitconfig/-/blob/main/qubitconfig/envelope_pulse.py?ref_type=heads) to see all available envelope functions. Envelopes are computed at compile-time, so a user could add arbitrary custom envelope functions to this library. Alternatively, a numpy array of samples can be provided. \n",
    "\n",
    "![image](images/pulse_example.svg)"
   ]
  },
  {
   "cell_type": "markdown",
   "id": "0d312a98",
   "metadata": {},
   "source": [
    "## Compile and Assemble\n",
    "\n",
    "Compile the program. Since we don't have any references to gates, we can pass None to the qchip argument. Broadly, the compiler does the following:\n",
    " 1. Resolve Gate references into pulses *(don't worry about this for now, we'll get to this later)*\n",
    " 2. Schedule all pulses\n",
    " 3. Lower control flow *(also don't worry about this)*\n",
    " 4. Break up the program into a set of several programs, one per core\n",
    "\n",
    "The output of the compile stage is a distributed processor assembly program, which consists of initialization/termination statements, as well as a list of scheduled pulses for each core. Our program only uses one processor core, scoped to channels `('Q0.qdrv', 'Q0.rdrv', 'Q0.rdlo')`."
   ]
  },
  {
   "cell_type": "code",
   "execution_count": null,
   "id": "809d68fb",
   "metadata": {
    "tags": []
   },
   "outputs": [],
   "source": [
    "compiled_prog = tc.run_compile_stage(circuit, fpga_config, None)\n",
    "compiled_prog.program"
   ]
  },
  {
   "cell_type": "markdown",
   "id": "795740b0",
   "metadata": {},
   "source": [
    "Run the assembler to convert the above program into machine code that we can load onto the FPGA or gateware simulation:"
   ]
  },
  {
   "cell_type": "code",
   "execution_count": null,
   "id": "e8892988",
   "metadata": {
    "tags": []
   },
   "outputs": [],
   "source": [
    "asm_prog = tc.run_assemble_stage(compiled_prog, channel_configs)"
   ]
  },
  {
   "cell_type": "markdown",
   "id": "346ead52-e24e-47d1-8aed-2299e11d995d",
   "metadata": {},
   "source": [
    "## Instantiate the Simulator and Run Program\n",
    "\n",
    "The simulator is already running in a background docker container. It uses [cocotb](https://www.cocotb.org/) and [Verilator](https://www.veripool.org/verilator/) to **simulate the core logical operations that would run on the FPGA**, including the **distributed core execution** and **full signal chain**. Below, we instantiate a client that we can use to send QubiC programs to the simulator, and inspect the resulting behavior of the DAC output and readout signal chain."
   ]
  },
  {
   "cell_type": "code",
   "execution_count": null,
   "id": "696b4b88-b9c1-46b2-86b8-fc81343dd671",
   "metadata": {
    "tags": []
   },
   "outputs": [],
   "source": [
    "from importlib import reload\n",
    "import sim_client as sc; reload(sc)\n",
    "client = sc.SimClient()"
   ]
  },
  {
   "cell_type": "code",
   "execution_count": null,
   "id": "33e430b2-528e-4adc-8c30-6aca89f3487b",
   "metadata": {
    "tags": []
   },
   "outputs": [],
   "source": [
    "# send our program to the simulator, and run it for 150 ns\n",
    "client.run_program(asm_prog, sim_time=150.e-9)"
   ]
  },
  {
   "cell_type": "markdown",
   "id": "1cf37df2-b37c-480e-89a8-9c9a14d5ae86",
   "metadata": {},
   "source": [
    "The DAC output is stored in `client.dac_out`. We expect to see our pulse on **DAC channel 7**, since `channel_configs['Q0.qdrv'].core_ind = 7`. "
   ]
  },
  {
   "cell_type": "code",
   "execution_count": null,
   "id": "4252ad4b-a6e0-4759-b1be-cdce73a3e996",
   "metadata": {
    "tags": []
   },
   "outputs": [],
   "source": [
    "channel_configs['Q0.qdrv'].core_ind"
   ]
  },
  {
   "cell_type": "markdown",
   "id": "c2b7312b-3d85-4f96-ac99-d4c99b0ec259",
   "metadata": {
    "tags": []
   },
   "source": [
    "We can use the client object to plot this output:"
   ]
  },
  {
   "cell_type": "code",
   "execution_count": null,
   "id": "e5bc2b76-f30c-4708-9c93-c3b33b2619b7",
   "metadata": {
    "tags": []
   },
   "outputs": [],
   "source": [
    "# plot the output of DAC channel 7, from t = 110 ns to t = 150 ns (relative to the start of the simulation)\n",
    "client.plot_dac_out(channel_configs['Q0.qdrv'].core_ind, 110.e-9, 150.e-9)"
   ]
  },
  {
   "cell_type": "markdown",
   "id": "45c6bc71-5288-48f3-ab30-a117200f1458",
   "metadata": {},
   "source": [
    "You probably noticed that the pulse starts \\~115 ns *after* the start of the simulation, even though it is scheduled to play immediately. Most of this latency (~100 ns) comes from synthesizing the pulse itself, while some is from the program initialization (e.g. issuing resets, initial triggers, etc)"
   ]
  },
  {
   "cell_type": "markdown",
   "id": "725f4fa7-7311-43d0-955b-4b7a1d085096",
   "metadata": {},
   "source": [
    "# Multiple Pulses"
   ]
  },
  {
   "cell_type": "markdown",
   "id": "585d7ade-825a-4b20-ac05-a1005f0106f1",
   "metadata": {},
   "source": [
    "Multiple pulses on the same channel are played **sequentially**. Pulses on separate channels are scheduled in parallel; i.e. **each pulse is played as soon as it's output channel is available**. \n",
    "\n",
    "## Two consecutive pulses on the same channel"
   ]
  },
  {
   "cell_type": "code",
   "execution_count": null,
   "id": "597934c4-ddaa-446e-ab3f-17b022ec7c0a",
   "metadata": {
    "tags": []
   },
   "outputs": [],
   "source": [
    "circuit = [\n",
    "    #play two pulses on the Q0 drive channel\n",
    "    {'name': 'pulse', 'phase': 0, 'freq': 4944383311, 'amp': 0.3, 'twidth': 2.4e-08,\n",
    "     'env': {'env_func': 'cos_edge_square', 'paradict': {'ramp_fraction': 0.25}},\n",
    "     'dest': 'Q0.qdrv'}, \n",
    "    \n",
    "    {'name': 'pulse', 'phase': 0, 'freq': 4944383311, 'amp': 0.6, 'twidth': 2.4e-08,\n",
    "     'env': {'env_func': 'cos_edge_square', 'paradict': {'ramp_fraction': 0.25}},\n",
    "     'dest': 'Q0.qdrv'}\n",
    "    \n",
    "]"
   ]
  },
  {
   "cell_type": "code",
   "execution_count": null,
   "id": "8d21f0bb-1020-44bb-a8b3-e3c951fe5d08",
   "metadata": {
    "tags": []
   },
   "outputs": [],
   "source": [
    "compiled_prog = tc.run_compile_stage(circuit, fpga_config, None)\n",
    "asm_prog = tc.run_assemble_stage(compiled_prog, channel_configs)"
   ]
  },
  {
   "cell_type": "code",
   "execution_count": null,
   "id": "da1cabc4-b3ec-4a2e-a6e3-409a2a7d461e",
   "metadata": {
    "tags": []
   },
   "outputs": [],
   "source": [
    "client.run_program(asm_prog, sim_time=200.e-9)"
   ]
  },
  {
   "cell_type": "code",
   "execution_count": null,
   "id": "3e499e92-6f4c-4e35-924f-b618bc84d251",
   "metadata": {
    "tags": []
   },
   "outputs": [],
   "source": [
    "client.plot_dac_out(7, 110.e-9, 200.e-9)"
   ]
  },
  {
   "cell_type": "markdown",
   "id": "6c88535c-9869-4b37-bae9-ea496029c358",
   "metadata": {},
   "source": [
    "## Add a pulse on a different channel"
   ]
  },
  {
   "cell_type": "code",
   "execution_count": null,
   "id": "1fde4eb6-cb50-41da-a4fb-b4f43dc202b4",
   "metadata": {
    "tags": []
   },
   "outputs": [],
   "source": [
    "circuit = [\n",
    "    # play two pulses on the Q0 drive channel\n",
    "    {'name': 'pulse', 'phase': 0, 'freq': 4944383311, 'amp': 0.3, 'twidth': 2.4e-08,\n",
    "     'env': {'env_func': 'cos_edge_square', 'paradict': {'ramp_fraction': 0.25}},\n",
    "     'dest': 'Q0.qdrv'}, \n",
    "    \n",
    "    {'name': 'pulse', 'phase': 0, 'freq': 4944383311, 'amp': 0.6, 'twidth': 2.4e-08,\n",
    "     'env': {'env_func': 'cos_edge_square', 'paradict': {'ramp_fraction': 0.25}},\n",
    "     'dest': 'Q0.qdrv'},\n",
    "    \n",
    "    # add a single pulse on Q1 drive -- this will be scheduled immediately, and played in parallel with the first Q0 pulse\n",
    "    {'name': 'pulse', 'phase': 0, 'freq': 4944383311, 'amp': 0.6, 'twidth': 2.4e-08,\n",
    "     'env': {'env_func': 'cos_edge_square', 'paradict': {'ramp_fraction': 0.25}},\n",
    "     'dest': 'Q1.qdrv'}\n",
    "    \n",
    "]"
   ]
  },
  {
   "cell_type": "code",
   "execution_count": null,
   "id": "1430462a-84a0-4ff0-a834-4b2ebe83ea2d",
   "metadata": {
    "tags": []
   },
   "outputs": [],
   "source": [
    "compiled_prog = tc.run_compile_stage(circuit, fpga_config, None)\n",
    "asm_prog = tc.run_assemble_stage(compiled_prog, channel_configs)"
   ]
  },
  {
   "cell_type": "code",
   "execution_count": null,
   "id": "b3377cec-063d-440f-960d-3aa3f7abc17f",
   "metadata": {
    "tags": []
   },
   "outputs": [],
   "source": [
    "client.run_program(asm_prog, sim_time=200.e-9)"
   ]
  },
  {
   "cell_type": "code",
   "execution_count": null,
   "id": "fffd1b52-e6b0-4aa5-9b6f-035a3579b25f",
   "metadata": {
    "tags": []
   },
   "outputs": [],
   "source": [
    "client.plot_dac_out(channel_configs['Q0.qdrv'].core_ind, 110.e-9, 200.e-9)\n",
    "client.plot_dac_out(channel_configs['Q1.qdrv'].core_ind, 110.e-9, 200.e-9)"
   ]
  },
  {
   "cell_type": "markdown",
   "id": "434f9ad3-c229-4d72-b918-acd2404fcef6",
   "metadata": {},
   "source": [
    "### Timing Constraints"
   ]
  },
  {
   "cell_type": "markdown",
   "id": "125f79a3-95db-4f5d-b765-dd583659a9cc",
   "metadata": {},
   "source": [
    "Delays and barriers can be used to control when pulses are played relative to one another:\n",
    "  - `delay`: delay subsequent pulses on all channels in `scope` by amount `t` (in seconds). If `scope` is not provided, delay all channels\n",
    "  - `barrier`: insert a scheduling barrier that applies to all channels in `scope`. All subsequent pulses on those channels are scheduled to play after the last pulse before the barrier (on those same channels) has finished (this is very similar to the behavior of a barrier in Qiskit). As with the `delay` instruction, if no channels are provided in `scope`, the barrier is applied to all channels.\n"
   ]
  },
  {
   "cell_type": "code",
   "execution_count": null,
   "id": "bf1196cc-b465-4d80-bbc0-cd2c3a7f19fd",
   "metadata": {
    "tags": []
   },
   "outputs": [],
   "source": [
    "circuit = [\n",
    "    #play two pulses on the Q0 drive channel\n",
    "    {'name': 'pulse', 'phase': 0, 'freq': 4944383311, 'amp': 0.3, 'twidth': 2.4e-08,\n",
    "     'env': {'env_func': 'cos_edge_square', 'paradict': {'ramp_fraction': 0.25}},\n",
    "     'dest': 'Q0.qdrv'}, \n",
    "    \n",
    "    {'name': 'delay', 't': 50.e-9},\n",
    "    \n",
    "    {'name': 'pulse', 'phase': 0, 'freq': 4944383311, 'amp': 0.6, 'twidth': 2.4e-08,\n",
    "     'env': {'env_func': 'cos_edge_square', 'paradict': {'ramp_fraction': 0.25}},\n",
    "     'dest': 'Q0.qdrv'},\n",
    "    \n",
    "    {'name': 'barrier'}, \n",
    "    \n",
    "    {'name': 'pulse', 'phase': 0, 'freq': 4944383311, 'amp': 0.6, 'twidth': 2.4e-08,\n",
    "     'env': {'env_func': 'cos_edge_square', 'paradict': {'ramp_fraction': 0.25}},\n",
    "     'dest': 'Q1.qdrv'}\n",
    "    \n",
    "]"
   ]
  },
  {
   "cell_type": "markdown",
   "id": "94a2d605-5608-4ee1-ae17-fd7e6c38f0b6",
   "metadata": {},
   "source": [
    "Compile, run, and plot the output below:"
   ]
  },
  {
   "cell_type": "code",
   "execution_count": null,
   "id": "bb687c71-4374-481e-a9a4-56714e8ea619",
   "metadata": {
    "tags": []
   },
   "outputs": [],
   "source": [
    "compiled_prog = tc.run_compile_stage(circuit, fpga_config, None)\n",
    "asm_prog = tc.run_assemble_stage(compiled_prog, channel_configs)\n",
    "client.run_program(asm_prog, sim_time=500.e-9)\n",
    "client.plot_dac_out(channel_configs['Q0.qdrv'].core_ind, 110.e-9, 500.e-9)\n",
    "client.plot_dac_out(channel_configs['Q1.qdrv'].core_ind, 110.e-9, 500.e-9)"
   ]
  },
  {
   "cell_type": "markdown",
   "id": "ad2dab5a-e3c1-43a0-95cc-c50299da084b",
   "metadata": {},
   "source": [
    "#### Extra: Scoped Delays and Barriers\n",
    "\n",
    "Delays and barriers can be scoped to a subset of channels using the `scope` field (e.g. `{'name': 'barrier', 'scope': ['Q0', 'Q2']}`). Try to generate a pulse sequence with the following structure:"
   ]
  },
  {
   "cell_type": "raw",
   "id": "8f2382ed-667a-4cac-97ed-991c81e6a6fd",
   "metadata": {},
   "source": [
    "Q0 -- pulse - pulse\n",
    "Q1 ---------------- pulse\n",
    "Q2 -- pulse - ----------- pulse"
   ]
  },
  {
   "cell_type": "code",
   "execution_count": null,
   "id": "603f8e90-864f-4958-9cf2-0d3b8f27d72a",
   "metadata": {
    "tags": []
   },
   "outputs": [],
   "source": [
    "circuit = [\n",
    "\n",
    "   # make circuit here!\n",
    "]\n",
    "    \n",
    "compiled_prog = tc.run_compile_stage(circuit, fpga_config, None)\n",
    "asm_prog = tc.run_assemble_stage(compiled_prog, channel_configs)\n",
    "client.run_program(asm_prog, sim_time=500.e-9)"
   ]
  },
  {
   "cell_type": "code",
   "execution_count": null,
   "id": "eadf2c91-be42-474a-af07-d7b795079719",
   "metadata": {
    "tags": []
   },
   "outputs": [],
   "source": [
    "client.plot_dac_out(channel_configs['Q0.qdrv'].core_ind, 110.e-9, 250.e-9)\n",
    "client.plot_dac_out(channel_configs['Q1.qdrv'].core_ind, 110.e-9, 250.e-9)\n",
    "client.plot_dac_out(channel_configs['Q2.qdrv'].core_ind, 110.e-9, 250.e-9)"
   ]
  },
  {
   "cell_type": "markdown",
   "id": "7a264fa2-3d4f-4e0d-b78f-b795c3e9f1e1",
   "metadata": {},
   "source": [
    "# Gates\n",
    "\n",
    "Calibrated gate information can be stored in a json file (example: qubitcfg.json) and referenced in QubiC circuits. Each gate consists of a list of a list of pulses\n",
    "\n",
    "## Example of X90 gate on Q0"
   ]
  },
  {
   "cell_type": "raw",
   "id": "a2b16620-80a6-4530-a47e-15915b019b82",
   "metadata": {},
   "source": [
    "\"Q0X90\": [\n",
    "            {\n",
    "                \"freq\": \"Q0.freq\",\n",
    "                \"phase\": 0.0,\n",
    "                \"dest\": \"Q0.qdrv\",\n",
    "                \"twidth\": 2.4e-08,\n",
    "                \"t0\": 0.0,\n",
    "                \"amp\": 0.11222212331696187,\n",
    "                \"env\": [\n",
    "                    {\n",
    "                        \"env_func\": \"cos_edge_square\",\n",
    "                        \"paradict\": {\n",
    "                            \"ramp_fraction\": 0.25\n",
    "                        }\n",
    "                    }\n",
    "                ]\n",
    "            }\n",
    "        ]"
   ]
  },
  {
   "cell_type": "markdown",
   "id": "f03920a1-dde7-48ab-9114-79a9cda087c4",
   "metadata": {},
   "source": [
    "## Example of CNOT gate, consisting of a composite list of pulses"
   ]
  },
  {
   "cell_type": "raw",
   "id": "00120ce5-4344-4a3d-b4c9-809eabf4b318",
   "metadata": {},
   "source": [
    "\"Q2Q1CNOT\": [\n",
    "            {\n",
    "                \"gate\": \"virtualz\",\n",
    "                \"freq\": \"Q1.freq\",\n",
    "                \"phase\": -4.645855388119304\n",
    "            },\n",
    "            {\n",
    "                \"gate\": \"Q2Q1CR\"\n",
    "            },\n",
    "            {\n",
    "                \"gate\": \"virtualz\",\n",
    "                \"freq\": \"Q1.freq\",\n",
    "                \"phase\": 4.645855388119304\n",
    "            },\n",
    "            {\n",
    "                \"gate\": \"virtualz\",\n",
    "                \"freq\": \"Q2.freq\",\n",
    "                \"phase\": 4.21833701036719\n",
    "            },\n",
    "            {\n",
    "                \"freq\": \"Q1.freq\",\n",
    "                \"phase\": 0,\n",
    "                \"dest\": \"Q1.qdrv\",\n",
    "                \"twidth\": 3.2e-08,\n",
    "                \"t0\": 3e-07,\n",
    "                \"amp\": 0.14244080983375557,\n",
    "                \"env\": [\n",
    "                    {\n",
    "                        \"env_func\": \"cos_edge_square\",\n",
    "                        \"paradict\": {\n",
    "                            \"ramp_fraction\": 0.25\n",
    "                        }\n",
    "                    }\n",
    "                ]\n",
    "            }\n",
    "        ]"
   ]
  },
  {
   "cell_type": "code",
   "execution_count": null,
   "id": "baf41c9d-4dd6-452d-a618-a29de52ae9b1",
   "metadata": {},
   "outputs": [],
   "source": [
    "circuit = [\n",
    "    # this circuit plays calibrated X90 gates\n",
    "    {'name': 'X90', 'qubit': 'Q0'},\n",
    "    {'name': 'X90', 'qubit': 'Q1'}]"
   ]
  },
  {
   "cell_type": "code",
   "execution_count": null,
   "id": "2bcc8ef1-8643-4371-a1cc-4cb51a9b2dd9",
   "metadata": {
    "tags": []
   },
   "outputs": [],
   "source": [
    "# load in configuration from qubitcfg.json\n",
    "qchip = qc.QChip('qubitcfg.json')"
   ]
  },
  {
   "cell_type": "code",
   "execution_count": null,
   "id": "59051ec0-3e22-4297-a156-f36aeb741b40",
   "metadata": {
    "tags": []
   },
   "outputs": [],
   "source": [
    "# inspect a gate\n",
    "qchip.gates['Q0X90'].cfg_dict"
   ]
  },
  {
   "cell_type": "code",
   "execution_count": null,
   "id": "7bb7c135-edeb-496e-b566-30104524323e",
   "metadata": {},
   "outputs": [],
   "source": [
    "# link the qchip configuration at compile time\n",
    "compiled_prog = tc.run_compile_stage(circuit, fpga_config, qchip)"
   ]
  },
  {
   "cell_type": "markdown",
   "id": "fc826610-026b-4496-8394-31c32c85bb1e",
   "metadata": {},
   "source": [
    "Finish the assembly stage below and plot the dac outputs:"
   ]
  },
  {
   "cell_type": "code",
   "execution_count": null,
   "id": "c41480bc-2c95-4513-8e43-30c29e851ca6",
   "metadata": {},
   "outputs": [],
   "source": [
    "\n"
   ]
  },
  {
   "cell_type": "markdown",
   "id": "e0ba72e4-8b94-47f8-a481-c26fc1566e39",
   "metadata": {
    "tags": []
   },
   "source": [
    "# Readout\n",
    "\n",
    "The qubit readout signal chain has two phases:\n",
    " 1. Using the readout DAC to play a **drive pulse** that excites the readout resonator\n",
    " 2. Recording the response using the **readout ADC**, and measuring the the change in resonator frequency (hence qubit state) using **digital IQ downconversion**\n",
    " \n",
    "## Readout Drive\n",
    "\n",
    "The readout drive signal path looks like this:\n",
    "\n",
    "![image](images/dac_signal_path.drawio.svg)\n",
    "\n",
    "As you might have guessed from the diagram, the readout chain is **frequency multiplexed**. That is, a bank of **8 independent firmware signal generators** can be used to drive the readout DAC, which allows **8 qubits to be read out simultaneously** (provided their readout resonators are coupled to a common bus). Readout pulses can be scheduled and parameterized like any other pulse.\n",
    "\n",
    "**Note**: As with the previous demo we don't have a physical DAC, so the readout drive maps to `dac_out[8]`"
   ]
  },
  {
   "cell_type": "markdown",
   "id": "63c158d3-f1a0-4bb4-8cd4-683be8164118",
   "metadata": {},
   "source": [
    "### Play a pulse on the readout drive channel\n",
    "\n",
    "Pulses can be played on readout drive channels by setting the `dest` field to `Qn.rdrv`. In the channel configuration, this corresponds to a `core_ind` that is the same as the drive channel for that qubit, and `elem_ind = 1`."
   ]
  },
  {
   "cell_type": "code",
   "execution_count": null,
   "id": "640b8f4a-5386-4a8b-8e68-51afcb9d8a21",
   "metadata": {
    "tags": []
   },
   "outputs": [],
   "source": [
    "circuit = [{'name': 'pulse', 'phase': 0, 'freq': 6.1e9, 'amp': 0.6, 'twidth': 1e-07,\n",
    "     'env': {'env_func': 'cos_edge_square', 'paradict': {'ramp_fraction': 0.25}},\n",
    "     'dest': 'Q0.rdrv'}]"
   ]
  },
  {
   "cell_type": "code",
   "execution_count": null,
   "id": "4e141aed-1e4e-47b8-8ba1-b3a7354bebf1",
   "metadata": {
    "tags": []
   },
   "outputs": [],
   "source": [
    "compiled_prog = tc.run_compile_stage(circuit, fpga_config, None)\n",
    "asm_prog = tc.run_assemble_stage(compiled_prog, channel_configs)"
   ]
  },
  {
   "cell_type": "code",
   "execution_count": null,
   "id": "4c209230-83a6-41b4-a3e6-768dbe3caa28",
   "metadata": {
    "tags": []
   },
   "outputs": [],
   "source": [
    "client.run_program(asm_prog, sim_time=500.e-9)"
   ]
  },
  {
   "cell_type": "code",
   "execution_count": null,
   "id": "4e988ff3-031e-40f4-895e-1c5ef1e0c1cb",
   "metadata": {
    "tags": []
   },
   "outputs": [],
   "source": [
    "client.plot_dac_out(8, 100.e-9, 300.e-9)"
   ]
  },
  {
   "cell_type": "markdown",
   "id": "14e74c4a-242b-42b4-94eb-ae8cbe99eeca",
   "metadata": {},
   "source": [
    "Now try it with multiple readout pulses on different qubits. Note that readout pulses are arbitrary/can be optimized per qubit."
   ]
  },
  {
   "cell_type": "code",
   "execution_count": null,
   "id": "64910995-71ce-4b93-9bf8-6a60d655e11b",
   "metadata": {
    "tags": []
   },
   "outputs": [],
   "source": [
    "circuit = [{'name': 'pulse', 'phase': 0, 'freq': 6.1e9, 'amp': 0.4, 'twidth': 1e-07,\n",
    "     'env': {'env_func': 'cos_edge_square', 'paradict': {'ramp_fraction': 0.25}},\n",
    "     'dest': 'Q0.rdrv'},\n",
    "           {'name': 'pulse', 'phase': 0, 'freq': 6.2e9, 'amp': 0.4, 'twidth': 1e-07,\n",
    "     'env': {'env_func': 'cos_edge_square', 'paradict': {'ramp_fraction': 0.25}},\n",
    "     'dest': 'Q1.rdrv'}]"
   ]
  },
  {
   "cell_type": "code",
   "execution_count": null,
   "id": "cf33304b-fc6b-4c34-80ed-dac2b01eacb1",
   "metadata": {
    "tags": []
   },
   "outputs": [],
   "source": [
    "## compile, assemble and plot here. When plotting, try zooming in to a small time range to see the different frequency components\n",
    "compiled_prog = tc.run_compile_stage(circuit, fpga_config, None)\n",
    "asm_prog = tc.run_assemble_stage(compiled_prog, channel_configs)\n",
    "\n",
    "client.run_program(asm_prog, sim_time=500.e-9)\n",
    "client.plot_dac_out(8, 100.e-9, 300.e-9)"
   ]
  },
  {
   "cell_type": "code",
   "execution_count": null,
   "id": "1faf0619-6b86-4675-bdc6-f538e13ad512",
   "metadata": {
    "tags": []
   },
   "outputs": [],
   "source": [
    "# If we plot an FFT of the above signal we can see both frequency components:\n",
    "fftfreq = np.fft.rfftfreq(len(client.dac_out[8]), 0.125e-9)\n",
    "rdrv_fft = np.fft.rfft(client.dac_out[8])\n",
    "plt.plot(fftfreq, np.abs(rdrv_fft))\n",
    "plt.xlabel('freq (Hz)')"
   ]
  },
  {
   "cell_type": "markdown",
   "id": "c5aa9219-7fa4-461a-9136-49d957b59b32",
   "metadata": {},
   "source": [
    "**Note**: The peaks we see here are the *image frequencies* in the first nyquist zone (0 - 4 GHz), reflected across the nyquist frequency of 4 GHz (`f_image = f_nyquist - (f - f_nyquist)`). With appropriate configuration of DACs and choice of filter, these images can be attenuated, leaving the tones in the second nyquist zone (4 - 8 GHz)."
   ]
  },
  {
   "cell_type": "markdown",
   "id": "1c2a69ea-eddb-4f83-9e87-769532a2392b",
   "metadata": {},
   "source": [
    "## Readout Demodulation\n",
    "\n",
    "The firmware also has **8 signal generator channels** for generating **readout demodulation tones** (these are called **readout_demod** or **rdlo** channels, for readout local-oscillator). These demodulation tones are **mixed with the signal from the readout ADC** to downconvert that readout tone to baseband. The full readout demodulation signal path looks like this:\n",
    "\n",
    "![image](images/readout_chain.drawio.svg)"
   ]
  },
  {
   "cell_type": "markdown",
   "id": "a13f4b0b-9899-4c42-a4d1-4fb14f3fc123",
   "metadata": {},
   "source": [
    "Note the accumulators after the mixing stage. Any pulse on a readout_demod (rdlo) channel will **reset and trigger the corresponding accumulator**, which will integrate the mixed signal for the duration of the rdlo pulse.\n",
    "\n",
    "Generate a pulse on an RDLO channel, and plot the signal:"
   ]
  },
  {
   "cell_type": "code",
   "execution_count": null,
   "id": "4b769484-aca0-42a8-a0a2-1a441d5c0207",
   "metadata": {
    "tags": []
   },
   "outputs": [],
   "source": [
    "circuit = [{'name': 'pulse', 'phase': 0, 'freq': 6100.e6, 'amp': 0.6, 'twidth': 1e-07,\n",
    "     'env': {'env_func': 'cos_edge_square', 'paradict': {'ramp_fraction': 0.25}},\n",
    "     'dest': 'Q0.rdlo'}] # maybe add example at 6.5, at least make consistent with DAC\n",
    "\n",
    "compiled_prog = tc.run_compile_stage(circuit, fpga_config, qchip)\n",
    "asm_prog = tc.run_assemble_stage(compiled_prog, channel_configs)"
   ]
  },
  {
   "cell_type": "code",
   "execution_count": null,
   "id": "af730a3b-297e-4d74-9969-7bac1ab712c1",
   "metadata": {
    "tags": []
   },
   "outputs": [],
   "source": [
    "client.run_program(asm_prog, sim_time=500.e-9, capture_demod=True) #run the program, and tell the simulator to store the demod signals"
   ]
  },
  {
   "cell_type": "code",
   "execution_count": null,
   "id": "74efa9c2-03ad-41b1-ac69-bb3c30de917d",
   "metadata": {
    "tags": []
   },
   "outputs": [],
   "source": [
    "client.plot_rdlo(channel_configs['Q0.rdlo'].core_ind, 0)"
   ]
  },
  {
   "cell_type": "code",
   "execution_count": null,
   "id": "6a6d7760-f82e-40f8-92b4-4164226b9da6",
   "metadata": {
    "tags": []
   },
   "outputs": [],
   "source": [
    "client.plot_rdlo(channel_configs['Q0.rdlo'].core_ind, 150.e-9, 200.e-9)"
   ]
  },
  {
   "cell_type": "markdown",
   "id": "2c734730-d396-4eaa-b56c-3b38a3a405b7",
   "metadata": {},
   "source": [
    "We can also use the simulator to plot the signal after mixing with the ADC:"
   ]
  },
  {
   "cell_type": "code",
   "execution_count": null,
   "id": "ffad07c2-9b71-4d78-98cb-8c3cec0f304f",
   "metadata": {
    "tags": []
   },
   "outputs": [],
   "source": [
    "client.plot_rdlo_x_adc(channel_configs['Q0.rdlo'].core_ind, 100.e-9, 300.e-9)"
   ]
  },
  {
   "cell_type": "markdown",
   "id": "bd217aa9-5116-45fd-b240-21de55313925",
   "metadata": {},
   "source": [
    "The mixed signal is 0, since there's no input to the ADC. \n",
    "\n",
    "Let's add an ADC stream:"
   ]
  },
  {
   "cell_type": "code",
   "execution_count": null,
   "id": "28f299a9-d337-44cb-bea4-6979d5af204f",
   "metadata": {
    "tags": []
   },
   "outputs": [],
   "source": [
    "adc_dt = 0.5e-9 # ADC sample rate is 2 GHz\n",
    "freq = 6100.e6 # we want to frequency-match the RDLO pulse to properly downconvert to baseband\n",
    "\n",
    "adc_stream = 0.9*np.cos(2*np.pi * freq * adc_dt * np.arange(1000)) #create a 1000 sample stream\n",
    "\n",
    "client.run_program(asm_prog, sim_time=500.e-9, capture_demod=True, adc_stream=adc_stream)"
   ]
  },
  {
   "cell_type": "code",
   "execution_count": null,
   "id": "49765c66-9789-4583-aa12-a2a8e10a2666",
   "metadata": {
    "tags": []
   },
   "outputs": [],
   "source": [
    "# point out undersampled ADC + lack of analog mixing\n",
    "client.plot_rdlo_x_adc(channel_configs['Q0.rdlo'].core_ind, 100.e-9, 300.e-9)"
   ]
  },
  {
   "cell_type": "markdown",
   "id": "9621ac71-2468-45f3-a439-e5d53121b2c5",
   "metadata": {
    "tags": []
   },
   "source": [
    "### Accumulated Signal\n",
    "\n",
    "The accumulated (integrated) downconverted signal is available from the simulator client:"
   ]
  },
  {
   "cell_type": "code",
   "execution_count": null,
   "id": "d49fe536-26f5-4c40-8a51-19d5cf4849b2",
   "metadata": {
    "tags": []
   },
   "outputs": [],
   "source": [
    "client.acc"
   ]
  },
  {
   "cell_type": "markdown",
   "id": "de4ea305-bbe9-4b5c-af8e-e38db3a534e3",
   "metadata": {},
   "source": [
    "In the real hardware, these values are saved to a memory buffer that can be read by the host PC"
   ]
  },
  {
   "cell_type": "markdown",
   "id": "391cadc9-1a3e-4e51-b214-5754c09be0d1",
   "metadata": {},
   "source": [
    "# Branching/Feedforward using Mid-circuit Measurements "
   ]
  },
  {
   "cell_type": "markdown",
   "id": "25f0f595-a7bd-4fb9-972e-e8b93537cc29",
   "metadata": {},
   "source": [
    "QubiC is capable of making arbitrary real-time control decisions based on measurement results. The latency of these operations (~200-300 ns) is well within the coherence time of superconducting transmon qubits (most of this latency comes from pulse generation/mixing, not branching logic). The distributed processor cores make branching decisions by interacting with a firmware module called the \"function processor\" (FPROC):\n",
    "\n",
    "![image](images/qubic_arch.png)\n",
    "\n",
    "Depending on the implementation, the FPROC can **aggregate measurement results**, or optionally do some **application specific data processing**. Each distributed processor **core** can **request/receive results** from the FPROC using a special instruction. In the current implementation for this simulation, the FPROC simply aggregates thresholded measurement results."
   ]
  },
  {
   "cell_type": "markdown",
   "id": "4ce549c3-e470-4173-aaee-cc0813e21661",
   "metadata": {
    "tags": []
   },
   "source": [
    "## `branch_fproc` Instruction\n",
    "\n",
    "The instruction used for **branching** looks like this:\n",
    "\n",
    "```json\n",
    "{'name': 'branch_fproc', 'alu_cond': <'le' or 'ge' or 'eq'>, 'cond_lhs': <var or ival>, \n",
    "'func_id': function_id, 'scope': <list_of_qubits_or_channels> 'true': [instruction_list], 'false': [instruction_list]}\n",
    "```\n",
    "\n",
    "Let's break this down:\n",
    " 1. Data is **requested** from the FPROC according to the provided `func_id`. In the version of the gateware we're simulating, `func_id` just indicates the qubit whose measurement result we want. A list of available FPROC channels can be found in `fpga_config.fproc_channels`\n",
    " 2. Once the FPROC receives the request, it **waits** for the **next available measurement** on that channel and sends it to the **core(s)** that requested it\n",
    " 3. The **core** makes a **branching decision** according to `cond_lhs <alu_cond> fproc_result`. For example, you can check if the measurement was 0 using: `cond_lhs = 0`, `alu_cond = 'eq'`, which implements: `0 == fproc_result`.\n",
    " 4. If the expression evaluates to **True**, the block of instructions in the `true` field are executed, **else** the block in `false` is executed.\n",
    "\n",
    "## A note about state classification/thresholding\n",
    "\n",
    "The FPROC classsifies states by thresholding across the y-axis; any accumulated value with `x>0` gets classified to 0; `x<0` goes to 1. Future FPROC implementations will include custom thresholds and qutrit states.\n",
    "\n",
    "![image](images/reset_image.svg)"
   ]
  },
  {
   "cell_type": "markdown",
   "id": "77937105-b302-4568-a5d9-4f6d376cf661",
   "metadata": {},
   "source": [
    "## FPROC Channels\n",
    "\n",
    "A list of available FPROC channels in the current gateware can be found in `fpga_config.fproc_channels`:"
   ]
  },
  {
   "cell_type": "code",
   "execution_count": null,
   "id": "54f6bbb2-72cd-4945-bba4-946285eb616b",
   "metadata": {
    "tags": []
   },
   "outputs": [],
   "source": [
    "fpga_config.fproc_channels"
   ]
  },
  {
   "cell_type": "markdown",
   "id": "8678935a-e263-40b2-82be-315bbe17684a",
   "metadata": {},
   "source": [
    "Each named channel indexes a `FPROCChannel` object, which contains the physical channel `id` to use, as well as the additional `delay` required to access the measurement (i.e. the additional delay, after the measurement pulse, required before the pulse is available).\n",
    "\n",
    "The channel `id` is resolved by the assembler using the `channel_configs` object; e.g. for `Q0.meas`, the physical channel ID is given by `channel_configs['Q0.rdlo'].core_ind`.\n",
    "\n",
    "The delay is used by the scheduler to ensure that all subsequent pulses are scheduled **after** the measurement becomes available."
   ]
  },
  {
   "cell_type": "markdown",
   "id": "24cb1803-6c9a-44fe-9b06-3da8892642d1",
   "metadata": {
    "tags": []
   },
   "source": [
    "## Circuit with Branching"
   ]
  },
  {
   "cell_type": "markdown",
   "id": "30516352-ad7d-4151-8553-81a39995edcc",
   "metadata": {},
   "source": [
    "Branch statements are a valid instruction type, and can be included in circuits"
   ]
  },
  {
   "cell_type": "code",
   "execution_count": null,
   "id": "e721c158-c323-4004-b125-c020f8b68bdf",
   "metadata": {
    "tags": []
   },
   "outputs": [],
   "source": [
    "circuit = [\n",
    "    {'name': 'read', 'qubit': 'Q0'}, #use a read gate, which includes an rdrv pulse followed by an rdlo pulse\n",
    "    {'name': 'branch_fproc', 'alu_cond': 'eq', 'cond_lhs': 0, 'func_id': 'Q0.meas', 'scope': ['Q0'], \n",
    "     'true': [\n",
    "         {'name': 'X90', 'qubit':'Q0'}], \n",
    "     'false': []}]\n"
   ]
  },
  {
   "cell_type": "code",
   "execution_count": null,
   "id": "77217265-b89f-480d-a142-dc118f3aad63",
   "metadata": {
    "tags": []
   },
   "outputs": [],
   "source": [
    "compiled_prog = tc.run_compile_stage(circuit, fpga_config, qchip)\n",
    "asm_prog = tc.run_assemble_stage(compiled_prog, channel_configs)"
   ]
  },
  {
   "cell_type": "markdown",
   "id": "e89ee145-339a-4dc2-a0f5-65ad7bbb3796",
   "metadata": {},
   "source": [
    "The compiler lowers **branch statements** to **conditional jumps** that execute on the distributed processor core:"
   ]
  },
  {
   "cell_type": "code",
   "execution_count": null,
   "id": "fda2bf7b-51e2-4cdd-8a85-8dd59ba6569a",
   "metadata": {
    "tags": []
   },
   "outputs": [],
   "source": [
    "compiled_prog.program"
   ]
  },
  {
   "cell_type": "code",
   "execution_count": null,
   "id": "e7e7f0f3-8ae3-4795-9197-ed1e830f2679",
   "metadata": {
    "tags": []
   },
   "outputs": [],
   "source": [
    "# Define an ADC stream\n",
    "\n",
    "adc_dt = 0.5e-9 # ADC sample rate is 2 GHz\n",
    "freq = 6100.e6 # we want to frequency-match the RDLO pulse to properly downconvert to baseband\n",
    "\n",
    "adc_stream = 0.9*np.cos(2*np.pi * freq * adc_dt * np.arange(5000)) #create a 5000 sample stream"
   ]
  },
  {
   "cell_type": "code",
   "execution_count": null,
   "id": "9d105408-a020-4810-a347-c775df1b560e",
   "metadata": {
    "tags": []
   },
   "outputs": [],
   "source": [
    "# run the program, and check the acc result\n",
    "client.run_program(asm_prog, sim_time=5.e-6, adc_stream=adc_stream)"
   ]
  },
  {
   "cell_type": "code",
   "execution_count": null,
   "id": "683506ba-1770-4a40-8920-bfec0220d8b2",
   "metadata": {
    "tags": []
   },
   "outputs": [],
   "source": [
    "client.acc"
   ]
  },
  {
   "cell_type": "markdown",
   "id": "316d5940-a9b9-4312-9e73-e7aec255b85a",
   "metadata": {},
   "source": [
    "The accumulated result has a real part <0, so we expect no pulses on the qdrv channel:"
   ]
  },
  {
   "cell_type": "code",
   "execution_count": null,
   "id": "1db7717c-a132-4c3a-9a36-91ab649435fb",
   "metadata": {
    "tags": []
   },
   "outputs": [],
   "source": [
    "client.plot_dac_out(channel_configs['Q0.qdrv'].core_ind)"
   ]
  },
  {
   "cell_type": "markdown",
   "id": "38e1d968-c4ca-4b78-80b1-ab0f4ea3041c",
   "metadata": {},
   "source": [
    "Let's phase shift the ADC stream by 180 degrees to flip the sign of the downconverted value:"
   ]
  },
  {
   "cell_type": "code",
   "execution_count": null,
   "id": "8d65eb5c-e4c8-442d-b7ac-cbf4972fec3c",
   "metadata": {
    "tags": []
   },
   "outputs": [],
   "source": [
    "adc_stream = 0.9*np.cos(2*np.pi * freq * adc_dt * np.arange(5000) + np.pi) #create a 5000 sample stream\n",
    "client.run_program(asm_prog, sim_time=5.e-6, adc_stream=adc_stream)\n",
    "client.acc"
   ]
  },
  {
   "cell_type": "code",
   "execution_count": null,
   "id": "b22eb512-5c04-4bb2-90ab-926d00f7b147",
   "metadata": {
    "tags": []
   },
   "outputs": [],
   "source": [
    "client.plot_dac_out(channel_configs['Q0.qdrv'].core_ind) # check for the pulse out"
   ]
  },
  {
   "cell_type": "markdown",
   "id": "a441b327-8726-439f-84e4-af20a45a30de",
   "metadata": {},
   "source": [
    "Branching is fully general -- try writing a program that executes a pulse sequence on Q2 based on a Q0 measurement result. Note that the conditionally executed pulse sequence can consist of pulses AND readouts."
   ]
  },
  {
   "cell_type": "code",
   "execution_count": null,
   "id": "4beead3b-c153-4cf0-b4b4-03a63b7f925d",
   "metadata": {
    "tags": []
   },
   "outputs": [],
   "source": [
    "## insert code/plots here\n",
    "# key-only\n",
    "circuit = [\n",
    "    \n",
    "    # make circuit here!\n",
    "]\n",
    "\n",
    "compiled_prog = tc.run_compile_stage(circuit, fpga_config, qchip)\n",
    "asm_prog = tc.run_assemble_stage(compiled_prog, channel_configs)"
   ]
  },
  {
   "cell_type": "code",
   "execution_count": null,
   "id": "c1bde45d-fc29-4a87-ae9b-2a0d73b162b8",
   "metadata": {
    "tags": []
   },
   "outputs": [],
   "source": [
    "adc_stream = 0.9*np.cos(2*np.pi * freq * adc_dt * np.arange(5000) + np.pi) #create a 5000 sample stream\n",
    "client.run_program(asm_prog, sim_time=5.e-6, adc_stream=adc_stream)\n",
    "client.acc"
   ]
  },
  {
   "cell_type": "code",
   "execution_count": null,
   "id": "d9690b01-4669-4db6-9bb9-e131a095ef1f",
   "metadata": {
    "tags": []
   },
   "outputs": [],
   "source": [
    "client.plot_dac_out(channel_configs['Q2.qdrv'].core_ind)"
   ]
  },
  {
   "cell_type": "code",
   "execution_count": null,
   "id": "c1b40ee1-ef4d-42c1-ba03-1a5070c9472f",
   "metadata": {
    "tags": []
   },
   "outputs": [],
   "source": [
    "client.plot_dac_out(channel_configs['Q0.qdrv'].core_ind)"
   ]
  },
  {
   "cell_type": "code",
   "execution_count": null,
   "id": "637ece44-d8be-4779-a3e5-614d35410fe8",
   "metadata": {
    "tags": []
   },
   "outputs": [],
   "source": [
    "# try the other branch\n",
    "adc_stream = 0.9*np.cos(2*np.pi * freq * adc_dt * np.arange(5000)) #create a 5000 sample stream\n",
    "client.run_program(asm_prog, sim_time=5.e-6, adc_stream=adc_stream)\n",
    "client.acc"
   ]
  },
  {
   "cell_type": "code",
   "execution_count": null,
   "id": "4446d1be-d14d-4ed5-878f-d80806ca17ef",
   "metadata": {
    "tags": []
   },
   "outputs": [],
   "source": [
    "client.plot_dac_out(channel_configs['Q2.qdrv'].core_ind, 2.5e-6, 3.e-6)\n",
    "client.plot_dac_out(channel_configs['Q0.qdrv'].core_ind, 2.5e-6, 3.e-6)"
   ]
  },
  {
   "cell_type": "markdown",
   "id": "b4509c5b-b612-46a0-97a5-e4ab62b2d54d",
   "metadata": {},
   "source": [
    "# Loops"
   ]
  },
  {
   "cell_type": "markdown",
   "id": "665399c2-7154-4ac6-bbfa-9dee7c264139",
   "metadata": {},
   "source": [
    "The loop instruction can be used to repeat pulse sequences in hardware, with minimal latency:\n",
    "\n",
    "```json\n",
    "{'name': 'loop', 'cond_lhs': <reg or ival>, 'alu_cond': <'ge', 'le', 'eq'>, 'cond_rhs': var_name, 'scope': <list_of_qubits>, 'body': [instruction_list]}\n",
    "```\n",
    "This instruction will execute the instruction list in `'body'` while the condition specified in the loop instruction (`cond_lhs <alu_cond> cond_rhs)` evaluates to true. To use loops effectively, we also introduce instructions that declare and operate on **variables**:\n",
    "\n",
    "## `declare` Instruction\n",
    "\n",
    "```json\n",
    "{'name': 'declare', 'var': <var_name>, 'scope': <list_of_qubits_or_channels>, 'type': <'phase' or 'amp' or 'int'>}\n",
    "```\n",
    "Declares a variable `var_name`. The `scope` is a list of qubits or channels that might reference the variable; for example if the variable was a loop index over qubit drive operations on Q1 and Q0, you could set `scope: ['Q0', 'Q1']` or `scope: ['Q0.qdrv', 'Q1.qdrv']`. `type` is optional and defaults to `'int'`, which is used for general purpose operations. `'phase'` and `'amp'` are types used for register-based pulse parameterization.\n",
    "\n",
    "## `set_var` Instruction\n",
    "\n",
    "```json\n",
    "{'name': 'set_var', 'value': <value>, 'var': <var_name>}\n",
    "```\n",
    "This instruction simply sets the value of `var_name` to `value`\n",
    "\n",
    "## `alu_op` Instruction\n",
    "\n",
    "```json\n",
    "{'name': 'alu', 'op': 'add' or 'sub' or 'le' or 'ge' or 'eq', 'lhs': var_name or value, 'rhs': var_name, 'out': output reg}\n",
    "```\n",
    "\n",
    "Performs a binary operation and stores it in a variable. The inputs to the operation are given by `lhs` and `rhs`. `lhs` can be an immediate value or register, and `rhs` must be a variable. Result is stored in `out` (can be the same as `lhs` and/or `rhs`).\n"
   ]
  },
  {
   "cell_type": "code",
   "execution_count": null,
   "id": "c7eeb1d2-76b9-4cf7-a7c7-ebd804c7e002",
   "metadata": {
    "tags": []
   },
   "outputs": [],
   "source": [
    "# repeat a Q0 drive pulse 10 times:\n",
    "circuit = [\n",
    "    {'name': 'declare', 'var': 'loop_ind', 'scope': ['Q0']},\n",
    "    {'name': 'set_var', 'value': 0, 'var': 'loop_ind'},\n",
    "    #{'name': 'delay', 't': 10.e-9},\n",
    "    {'name': 'loop', 'cond_lhs': 10, 'alu_cond': 'ge', 'cond_rhs': 'loop_ind', 'scope': ['Q0'], \n",
    "     'body': [\n",
    "         {'name': 'X90', 'qubit': 'Q0'},\n",
    "         {'name': 'alu', 'op': 'add', 'lhs': 1, 'rhs': 'loop_ind', 'out': 'loop_ind'}\n",
    "     ]}]"
   ]
  },
  {
   "cell_type": "code",
   "execution_count": null,
   "id": "434ee652-8064-47e5-b0b5-88173429705e",
   "metadata": {
    "tags": []
   },
   "outputs": [],
   "source": [
    "compiled_prog = tc.run_compile_stage(circuit, fpga_config, qchip)\n",
    "asm_prog = tc.run_assemble_stage(compiled_prog, channel_configs)\n",
    "compiled_prog.program"
   ]
  },
  {
   "cell_type": "code",
   "execution_count": null,
   "id": "9912823b-dc58-4d6a-833f-4130deee9066",
   "metadata": {
    "tags": []
   },
   "outputs": [],
   "source": [
    "client.run_program(asm_prog, sim_time=1.e-6)"
   ]
  },
  {
   "cell_type": "code",
   "execution_count": null,
   "id": "75aeee21-8b7c-4340-b166-22b597fe6075",
   "metadata": {
    "tags": []
   },
   "outputs": [],
   "source": [
    "client.plot_dac_out(channel_configs['Q0.qdrv'].core_ind)"
   ]
  },
  {
   "cell_type": "markdown",
   "id": "5ced3895-aff1-4168-a705-00580882f815",
   "metadata": {},
   "source": [
    "## Example: Fast Amplitude Sweep"
   ]
  },
  {
   "cell_type": "code",
   "execution_count": null,
   "id": "f363b48e-b59d-4cfa-998d-650dc7dc5311",
   "metadata": {},
   "outputs": [],
   "source": [
    "# sweep Q0.drive amplitude:\n",
    "circuit = [\n",
    "    {'name': 'declare', 'var': 'loop_ind', 'scope': ['Q0']},\n",
    "    {'name': 'set_var', 'value': 0, 'var': 'loop_ind'},\n",
    "    {'name': 'declare', 'var': 'amp', 'scope': ['Q0'], 'dtype': 'amp'},\n",
    "    {'name': 'set_var', 'value': 0.1, 'var': 'amp'}, # pulse amplitude is parameterized by processor register\n",
    "    {'name': 'loop', 'cond_lhs': 9, 'alu_cond': 'ge', 'cond_rhs': 'loop_ind', 'scope': ['Q0'], \n",
    "     'body': [\n",
    "            {'name': 'pulse', 'phase': 0, 'freq': 4944383311, 'amp': 'amp', 'twidth': 2.4e-08,\n",
    "             'env': {'env_func': 'cos_edge_square', 'paradict': {'ramp_fraction': 0.25}},\n",
    "             'dest': 'Q0.qdrv'},\n",
    "         {'name': 'alu', 'op': 'add', 'lhs': 1, 'rhs': 'loop_ind', 'out': 'loop_ind'},\n",
    "         {'name': 'alu', 'op': 'add', 'lhs': 0.1, 'rhs': 'amp', 'out': 'amp'}\n",
    "\n",
    "         \n",
    "     ]}]"
   ]
  },
  {
   "cell_type": "code",
   "execution_count": null,
   "id": "eb8c93e6-e0f3-43c1-a9ad-8a4ac9d7f2e7",
   "metadata": {
    "tags": []
   },
   "outputs": [],
   "source": [
    "compiled_prog = tc.run_compile_stage(circuit, fpga_config, qchip)\n",
    "asm_prog = tc.run_assemble_stage(compiled_prog, channel_configs)\n",
    "compiled_prog.program"
   ]
  },
  {
   "cell_type": "code",
   "execution_count": null,
   "id": "52ffff1d-5ae5-44ce-9da4-5b46fc8f8829",
   "metadata": {
    "tags": []
   },
   "outputs": [],
   "source": [
    "client.run_program(asm_prog, sim_time=1.e-6)\n",
    "client.plot_dac_out(channel_configs['Q0.qdrv'].core_ind)"
   ]
  },
  {
   "cell_type": "code",
   "execution_count": null,
   "id": "eeb6bc71-e396-4f6e-bf4e-3d758e582aa4",
   "metadata": {},
   "outputs": [],
   "source": []
  }
 ],
 "metadata": {
  "kernelspec": {
   "display_name": "Python 3 (ipykernel)",
   "language": "python",
   "name": "python3"
  },
  "language_info": {
   "codemirror_mode": {
    "name": "ipython",
    "version": 3
   },
   "file_extension": ".py",
   "mimetype": "text/x-python",
   "name": "python",
   "nbconvert_exporter": "python",
   "pygments_lexer": "ipython3",
   "version": "3.10.12"
  }
 },
 "nbformat": 4,
 "nbformat_minor": 5
}
